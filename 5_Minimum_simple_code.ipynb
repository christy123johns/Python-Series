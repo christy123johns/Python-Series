{
  "nbformat": 4,
  "nbformat_minor": 0,
  "metadata": {
    "colab": {
      "name": "5.Minimum_simple code.ipynb",
      "provenance": [],
      "collapsed_sections": []
    },
    "kernelspec": {
      "name": "python3",
      "display_name": "Python 3"
    },
    "language_info": {
      "name": "python"
    }
  },
  "cells": [
    {
      "cell_type": "markdown",
      "source": [
        "## **Minimum**"
      ],
      "metadata": {
        "id": "qrpk13cQZYT5"
      }
    },
    {
      "cell_type": "code",
      "source": [
        "#to find the minimum\n",
        "\n",
        "a=input('First number: ')\n"
      ],
      "metadata": {
        "colab": {
          "base_uri": "https://localhost:8080/"
        },
        "id": "IzUiZK81baNl",
        "outputId": "dc781f20-63cb-4822-d9f3-52167194e034"
      },
      "execution_count": 109,
      "outputs": [
        {
          "name": "stdout",
          "output_type": "stream",
          "text": [
            "First number: 8\n"
          ]
        }
      ]
    },
    {
      "cell_type": "code",
      "source": [
        "b=input('Second number: ')\n"
      ],
      "metadata": {
        "colab": {
          "base_uri": "https://localhost:8080/"
        },
        "id": "mPQ9IkC1dssW",
        "outputId": "f3502930-46d5-40ff-a737-ab1918b750c8"
      },
      "execution_count": 110,
      "outputs": [
        {
          "name": "stdout",
          "output_type": "stream",
          "text": [
            "Second number: 2\n"
          ]
        }
      ]
    },
    {
      "cell_type": "code",
      "source": [
        "#to find the minimum we given a,b\n",
        "minimum=min(a,b)\n",
        "print(minimum)"
      ],
      "metadata": {
        "colab": {
          "base_uri": "https://localhost:8080/"
        },
        "id": "izJhhq7VduEb",
        "outputId": "c72e08c8-33c5-4939-9ffc-157301bf5f3f"
      },
      "execution_count": 111,
      "outputs": [
        {
          "output_type": "stream",
          "name": "stdout",
          "text": [
            "2\n"
          ]
        }
      ]
    },
    {
      "cell_type": "code",
      "source": [
        "#to find the minimum\n",
        "#always try to minimize the code\n",
        "\n",
        "a=input('First No:')\n",
        "b=input('Second No:')\n",
        "print(min(a,b))"
      ],
      "metadata": {
        "colab": {
          "base_uri": "https://localhost:8080/"
        },
        "id": "Vf6AmpNAggBf",
        "outputId": "3d1353b4-7812-4e9d-8c85-31d74c747608"
      },
      "execution_count": 112,
      "outputs": [
        {
          "output_type": "stream",
          "name": "stdout",
          "text": [
            "First No:8\n",
            "Second No:2\n",
            "2\n"
          ]
        }
      ]
    }
  ]
}