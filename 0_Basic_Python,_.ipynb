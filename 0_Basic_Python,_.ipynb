{
  "cells": [
    {
      "cell_type": "markdown",
      "metadata": {
        "id": "AgKnUGmaJIdZ"
      },
      "source": [
        "## Python Basics"
      ]
    },
    {
      "cell_type": "markdown",
      "metadata": {
        "id": "bi20zAb_JTi6"
      },
      "source": [
        "### Python keywords"
      ]
    },
    {
      "cell_type": "code",
      "execution_count": 1095,
      "metadata": {
        "colab": {
          "base_uri": "https://localhost:8080/"
        },
        "id": "m4doDiVYECQ0",
        "outputId": "efd42b73-6541-48de-9d90-ef78c0b80da8"
      },
      "outputs": [
        {
          "output_type": "execute_result",
          "data": {
            "text/plain": [
              "['False',\n",
              " 'None',\n",
              " 'True',\n",
              " 'and',\n",
              " 'as',\n",
              " 'assert',\n",
              " 'async',\n",
              " 'await',\n",
              " 'break',\n",
              " 'class',\n",
              " 'continue',\n",
              " 'def',\n",
              " 'del',\n",
              " 'elif',\n",
              " 'else',\n",
              " 'except',\n",
              " 'finally',\n",
              " 'for',\n",
              " 'from',\n",
              " 'global',\n",
              " 'if',\n",
              " 'import',\n",
              " 'in',\n",
              " 'is',\n",
              " 'lambda',\n",
              " 'nonlocal',\n",
              " 'not',\n",
              " 'or',\n",
              " 'pass',\n",
              " 'raise',\n",
              " 'return',\n",
              " 'try',\n",
              " 'while',\n",
              " 'with',\n",
              " 'yield']"
            ]
          },
          "metadata": {},
          "execution_count": 1095
        }
      ],
      "source": [
        "#this will get you the list of all keywords in python.\n",
        "import keyword\n",
        "keyword.kwlist"
      ]
    },
    {
      "cell_type": "code",
      "execution_count": 1096,
      "metadata": {
        "colab": {
          "base_uri": "https://localhost:8080/"
        },
        "id": "UErtdKoVTiGx",
        "outputId": "c3742b1b-fb9d-4c0e-a2b5-fdbfad7fab4b"
      },
      "outputs": [
        {
          "output_type": "execute_result",
          "data": {
            "text/plain": [
              "True"
            ]
          },
          "metadata": {},
          "execution_count": 1096
        }
      ],
      "source": [
        "#this will return true, if the mentioned name is a keyword.\n",
        "keyword.iskeyword('try')"
      ]
    },
    {
      "cell_type": "code",
      "execution_count": 1097,
      "metadata": {
        "colab": {
          "base_uri": "https://localhost:8080/"
        },
        "id": "xzVNGvbfX0_l",
        "outputId": "f1fe96c3-d087-429e-8e1d-c17cacdb22ab"
      },
      "outputs": [
        {
          "output_type": "execute_result",
          "data": {
            "text/plain": [
              "False"
            ]
          },
          "metadata": {},
          "execution_count": 1097
        }
      ],
      "source": [
        "keyword.iskeyword('loop')"
      ]
    },
    {
      "cell_type": "markdown",
      "metadata": {
        "id": "Ar7-0VJMTneu"
      },
      "source": [
        "### Popular Python Libraries"
      ]
    },
    {
      "cell_type": "markdown",
      "metadata": {
        "id": "XZxfQmNWT1Js"
      },
      "source": [
        "NumPy:for high level mathematical fuctions\n",
        "\n",
        "Pandas:used for Data Analysis & Manipulation\n",
        "\n",
        "Matplotlib: Plotting in Python"
      ]
    },
    {
      "cell_type": "markdown",
      "metadata": {
        "id": "j8oZl92eUIvp"
      },
      "source": [
        "### Python Comments"
      ]
    },
    {
      "cell_type": "code",
      "execution_count": 1098,
      "metadata": {
        "colab": {
          "base_uri": "https://localhost:8080/",
          "height": 35
        },
        "id": "xZ_HrAL1Ttr6",
        "outputId": "2aa3d9f1-492a-4447-ac59-ccc205b903f3"
      },
      "outputs": [
        {
          "output_type": "execute_result",
          "data": {
            "text/plain": [
              "\"Haii all it's me Christy Johns from EzyMentor\""
            ],
            "application/vnd.google.colaboratory.intrinsic+json": {
              "type": "string"
            }
          },
          "metadata": {},
          "execution_count": 1098
        }
      ],
      "source": [
        "#a single line comment\n",
        "#a multi line comment\n",
        "\"\"\"Haii all it's me Christy Johns from EzyMentor\"\"\""
      ]
    },
    {
      "cell_type": "code",
      "execution_count": 1099,
      "metadata": {
        "colab": {
          "base_uri": "https://localhost:8080/",
          "height": 35
        },
        "id": "waeger83YmeB",
        "outputId": "c66dc747-019c-4072-e62a-29978e9bef12"
      },
      "outputs": [
        {
          "output_type": "execute_result",
          "data": {
            "text/plain": [
              "\"Yes I'm fine ...\""
            ],
            "application/vnd.google.colaboratory.intrinsic+json": {
              "type": "string"
            }
          },
          "metadata": {},
          "execution_count": 1099
        }
      ],
      "source": [
        "#How are you?\n",
        "#\n",
        "\"Yes I'm fine ...\""
      ]
    },
    {
      "cell_type": "markdown",
      "metadata": {
        "id": "bw4oqLS6CGZB"
      },
      "source": [
        "## 1st python Program"
      ]
    },
    {
      "cell_type": "code",
      "execution_count": 1100,
      "metadata": {
        "colab": {
          "base_uri": "https://localhost:8080/"
        },
        "id": "hu59FFSyCLvA",
        "outputId": "6d317076-9e16-4ddc-ac11-9028bb817c9d"
      },
      "outputs": [
        {
          "output_type": "stream",
          "name": "stdout",
          "text": [
            "Hello my Viewers\n"
          ]
        }
      ],
      "source": [
        "print('Hello my Viewers')"
      ]
    },
    {
      "cell_type": "markdown",
      "metadata": {
        "id": "CdJf2X-oCRir"
      },
      "source": [
        "## Python Variables\n",
        "\n",
        "### Variable declaration"
      ]
    },
    {
      "cell_type": "code",
      "execution_count": 1101,
      "metadata": {
        "colab": {
          "base_uri": "https://localhost:8080/"
        },
        "id": "ODPDZ-TzCaTk",
        "outputId": "d9e5cf62-5932-4c7e-afd1-d3c62774cf03"
      },
      "outputs": [
        {
          "output_type": "execute_result",
          "data": {
            "text/plain": [
              "5"
            ]
          },
          "metadata": {},
          "execution_count": 1101
        }
      ],
      "source": [
        "#variable is declared as the value 5 is assigned to it.\n",
        "x = 5\n",
        "x "
      ]
    },
    {
      "cell_type": "code",
      "execution_count": 1102,
      "metadata": {
        "colab": {
          "base_uri": "https://localhost:8080/"
        },
        "id": "g0hUbx8rKwKh",
        "outputId": "69e903e5-15cf-4197-eb6c-6e48c08108b9"
      },
      "outputs": [
        {
          "output_type": "execute_result",
          "data": {
            "text/plain": [
              "100"
            ]
          },
          "metadata": {},
          "execution_count": 1102
        }
      ],
      "source": [
        "XyZ = 100\n",
        "XyZ"
      ]
    },
    {
      "cell_type": "markdown",
      "metadata": {
        "id": "DTosXbbgCjEC"
      },
      "source": [
        "## Data Types in Python\n",
        "\n",
        "### Numerical data types\n",
        "\n",
        "\n",
        "\n",
        "1.   Integers\n",
        "2.   Float\n",
        "3.   Complex Numbers\n",
        "4.   Boolean\n",
        "\n"
      ]
    },
    {
      "cell_type": "code",
      "execution_count": 1103,
      "metadata": {
        "colab": {
          "base_uri": "https://localhost:8080/"
        },
        "id": "5qzHxwCCDDvD",
        "outputId": "f1f4a1cb-ffe1-49db-e860-01a00123aae4"
      },
      "outputs": [
        {
          "output_type": "execute_result",
          "data": {
            "text/plain": [
              "int"
            ]
          },
          "metadata": {},
          "execution_count": 1103
        }
      ],
      "source": [
        "# 1. Integers = are used to represent whole number values.\n",
        "x = 1000\n",
        "b = 10000\n",
        "\n",
        "type(x)\n",
        "type(b)\n",
        " "
      ]
    },
    {
      "cell_type": "code",
      "execution_count": 1104,
      "metadata": {
        "colab": {
          "base_uri": "https://localhost:8080/"
        },
        "id": "EWEXOYvlCyhD",
        "outputId": "e70ab6fa-7adf-4993-b51b-79a904a36713"
      },
      "outputs": [
        {
          "output_type": "execute_result",
          "data": {
            "text/plain": [
              "float"
            ]
          },
          "metadata": {},
          "execution_count": 1104
        }
      ],
      "source": [
        "# 2. Float = data type is used to represent decimal point values.\n",
        "\n",
        "x = 100.10\n",
        "y = 13.13\n",
        "type(x)\n",
        "type(y)"
      ]
    },
    {
      "cell_type": "code",
      "execution_count": 1105,
      "metadata": {
        "colab": {
          "base_uri": "https://localhost:8080/"
        },
        "id": "Y178bHvKER1d",
        "outputId": "c287ad01-276f-4fe9-fdd4-da2d56781d49"
      },
      "outputs": [
        {
          "output_type": "execute_result",
          "data": {
            "text/plain": [
              "complex"
            ]
          },
          "metadata": {},
          "execution_count": 1105
        }
      ],
      "source": [
        "# 3. Complex = numbers are used to represent imaginary values.\n",
        "\n",
        "z = 12+4j\n",
        "type(z)"
      ]
    },
    {
      "cell_type": "code",
      "execution_count": 1106,
      "metadata": {
        "colab": {
          "base_uri": "https://localhost:8080/"
        },
        "id": "gicsD9NtTb92",
        "outputId": "8474468d-476b-43ea-e8ab-c0ff9343fe69"
      },
      "outputs": [
        {
          "output_type": "execute_result",
          "data": {
            "text/plain": [
              "complex"
            ]
          },
          "metadata": {},
          "execution_count": 1106
        }
      ],
      "source": [
        "c=3+6j\n",
        "type(c)"
      ]
    },
    {
      "cell_type": "code",
      "execution_count": 1107,
      "metadata": {
        "colab": {
          "base_uri": "https://localhost:8080/"
        },
        "id": "xVsQmlHHEb_K",
        "outputId": "5bfea531-aa08-464c-91d3-1506c28f5e57"
      },
      "outputs": [
        {
          "output_type": "stream",
          "name": "stdout",
          "text": [
            "True\n"
          ]
        }
      ],
      "source": [
        "# 4. Boolean = is used for categorical output, since the output of boolean is either true or false.\n",
        "\n",
        "Boo = 9>7\n",
        "#Boo is the boolean variable\n",
        "\n",
        "type(Boo)\n",
        "#the output will be bool\n",
        "\n",
        "print(Boo)\n",
        "#this will print true."
      ]
    },
    {
      "cell_type": "code",
      "execution_count": 1108,
      "metadata": {
        "colab": {
          "base_uri": "https://localhost:8080/"
        },
        "id": "3Rlj9zS0hq7Q",
        "outputId": "58dd4ec5-977d-4bcf-ecc8-0a6affeca2e1"
      },
      "outputs": [
        {
          "output_type": "stream",
          "name": "stdout",
          "text": [
            "False\n"
          ]
        }
      ],
      "source": [
        "l=20<10\n",
        "print(l)"
      ]
    },
    {
      "cell_type": "markdown",
      "metadata": {
        "id": "PctcDswcdOnf"
      },
      "source": [
        "**String**"
      ]
    },
    {
      "cell_type": "code",
      "execution_count": 1109,
      "metadata": {
        "colab": {
          "base_uri": "https://localhost:8080/",
          "height": 35
        },
        "id": "vbaAJbc7dUOC",
        "outputId": "8a4b8a56-b94d-4110-a4d0-8f0df0fabde8"
      },
      "outputs": [
        {
          "output_type": "execute_result",
          "data": {
            "text/plain": [
              "'EzyMentor'"
            ],
            "application/vnd.google.colaboratory.intrinsic+json": {
              "type": "string"
            }
          },
          "metadata": {},
          "execution_count": 1109
        }
      ],
      "source": [
        "#Strings in python are used to represent unicode character values. a single character is also considered as a string.\n",
        "#We denote or declare the string values inside single quotes or double quotes. \n",
        "#To access the values in a string, we use the indexes and square brackets.\n",
        "string = 'EzyMentor'\n",
        "string\n",
        "\n"
      ]
    },
    {
      "cell_type": "code",
      "execution_count": 1110,
      "metadata": {
        "colab": {
          "base_uri": "https://localhost:8080/",
          "height": 35
        },
        "id": "c-EIYtY4d4Pz",
        "outputId": "770f1d09-67df-4850-eabe-387fd73b3537"
      },
      "outputs": [
        {
          "output_type": "execute_result",
          "data": {
            "text/plain": [
              "'e'"
            ],
            "application/vnd.google.colaboratory.intrinsic+json": {
              "type": "string"
            }
          },
          "metadata": {},
          "execution_count": 1110
        }
      ],
      "source": [
        "string[4]"
      ]
    },
    {
      "cell_type": "code",
      "execution_count": 1111,
      "metadata": {
        "colab": {
          "base_uri": "https://localhost:8080/",
          "height": 35
        },
        "id": "KpKLAYEL67Cp",
        "outputId": "13507228-8ef5-4822-c535-17167a35e72b"
      },
      "outputs": [
        {
          "output_type": "execute_result",
          "data": {
            "text/plain": [
              "'E'"
            ],
            "application/vnd.google.colaboratory.intrinsic+json": {
              "type": "string"
            }
          },
          "metadata": {},
          "execution_count": 1111
        }
      ],
      "source": [
        "string[0]"
      ]
    },
    {
      "cell_type": "code",
      "execution_count": 1112,
      "metadata": {
        "colab": {
          "base_uri": "https://localhost:8080/",
          "height": 35
        },
        "id": "CJOO14Qm7Cdr",
        "outputId": "1316f9cb-b18f-4d9e-d046-9bc85642f99e"
      },
      "outputs": [
        {
          "output_type": "execute_result",
          "data": {
            "text/plain": [
              "'r'"
            ],
            "application/vnd.google.colaboratory.intrinsic+json": {
              "type": "string"
            }
          },
          "metadata": {},
          "execution_count": 1112
        }
      ],
      "source": [
        "string[8]"
      ]
    },
    {
      "cell_type": "markdown",
      "metadata": {
        "id": "Mf-0QQp0eAp0"
      },
      "source": [
        "Basic Operations Using String\n"
      ]
    },
    {
      "cell_type": "code",
      "execution_count": 1113,
      "metadata": {
        "colab": {
          "base_uri": "https://localhost:8080/",
          "height": 35
        },
        "id": "o-bxmJTld-5i",
        "outputId": "67aa2402-b1f2-4d1a-cb77-0e3b632b36d5"
      },
      "outputs": [
        {
          "output_type": "execute_result",
          "data": {
            "text/plain": [
              "'HAI FROM EZYMENTOR'"
            ],
            "application/vnd.google.colaboratory.intrinsic+json": {
              "type": "string"
            }
          },
          "metadata": {},
          "execution_count": 1113
        }
      ],
      "source": [
        "string = 'Hai From EzyMentor'\n",
        "#will make the letters to uppercase\n",
        "string.upper()"
      ]
    },
    {
      "cell_type": "code",
      "execution_count": 1114,
      "metadata": {
        "colab": {
          "base_uri": "https://localhost:8080/",
          "height": 35
        },
        "id": "puDIUPGweSuN",
        "outputId": "c09a003f-60da-46d1-fb6f-9a4dcac75912"
      },
      "outputs": [
        {
          "output_type": "execute_result",
          "data": {
            "text/plain": [
              "'hai from ezymentor'"
            ],
            "application/vnd.google.colaboratory.intrinsic+json": {
              "type": "string"
            }
          },
          "metadata": {},
          "execution_count": 1114
        }
      ],
      "source": [
        "#will make the letters to lowercase\n",
        "string.lower()"
      ]
    },
    {
      "cell_type": "code",
      "execution_count": 1115,
      "metadata": {
        "colab": {
          "base_uri": "https://localhost:8080/",
          "height": 35
        },
        "id": "OEvhGTlCeaBH",
        "outputId": "63828180-b224-4d75-e3d2-70fa9d9bfe02"
      },
      "outputs": [
        {
          "output_type": "execute_result",
          "data": {
            "text/plain": [
              "'i From EzyMent'"
            ],
            "application/vnd.google.colaboratory.intrinsic+json": {
              "type": "string"
            }
          },
          "metadata": {},
          "execution_count": 1115
        }
      ],
      "source": [
        "#will return the strings starting at index 2 until the index 16.\n",
        "string[2:16]\n"
      ]
    },
    {
      "cell_type": "code",
      "execution_count": 1116,
      "metadata": {
        "colab": {
          "base_uri": "https://localhost:8080/",
          "height": 35
        },
        "id": "4M9Kkl1z9TfB",
        "outputId": "eecdb059-845d-46a9-9ab7-0bef6c03b8c9"
      },
      "outputs": [
        {
          "output_type": "execute_result",
          "data": {
            "text/plain": [
              "'From EzyMentor'"
            ],
            "application/vnd.google.colaboratory.intrinsic+json": {
              "type": "string"
            }
          },
          "metadata": {},
          "execution_count": 1116
        }
      ],
      "source": [
        "string[4:18]"
      ]
    },
    {
      "cell_type": "markdown",
      "metadata": {
        "id": "YAJG4WtDfJnS"
      },
      "source": [
        "### complex data types.\n",
        "\n",
        "**Lists**\n",
        "\n",
        "Tuple, set and dictionary are the other collection data type is python.\n",
        "\n",
        "A list is ordered and changeable.\n",
        "\n",
        "To declare a list we use the square brackets."
      ]
    },
    {
      "cell_type": "code",
      "execution_count": 1117,
      "metadata": {
        "colab": {
          "base_uri": "https://localhost:8080/"
        },
        "id": "vOY9P1Xbe9Oc",
        "outputId": "72dd52ff-0849-4794-9ac5-2cfb93bc0493"
      },
      "outputs": [
        {
          "output_type": "execute_result",
          "data": {
            "text/plain": [
              "[15, 25, 10, 30]"
            ]
          },
          "metadata": {},
          "execution_count": 1117
        }
      ],
      "source": [
        "list = [20,15,25,10,30,5,'pinki', 'brownie']\n",
        "#will get the values from index 1 until index 5.\n",
        "list[1:5]"
      ]
    },
    {
      "cell_type": "code",
      "execution_count": 1118,
      "metadata": {
        "colab": {
          "base_uri": "https://localhost:8080/"
        },
        "id": "JmSKNxB_y3-e",
        "outputId": "ad0233aa-508b-42c9-c9f1-795cc3479faa"
      },
      "outputs": [
        {
          "output_type": "execute_result",
          "data": {
            "text/plain": [
              "[25, 10, 30, 5]"
            ]
          },
          "metadata": {},
          "execution_count": 1118
        }
      ],
      "source": [
        "list[2:6]"
      ]
    },
    {
      "cell_type": "code",
      "execution_count": 1119,
      "metadata": {
        "colab": {
          "base_uri": "https://localhost:8080/"
        },
        "id": "guLGEl3JzBbI",
        "outputId": "576ad753-0786-4e08-f296-563e2e538f64"
      },
      "outputs": [
        {
          "output_type": "execute_result",
          "data": {
            "text/plain": [
              "[30, 5, 'pinki', 'brownie']"
            ]
          },
          "metadata": {},
          "execution_count": 1119
        }
      ],
      "source": [
        "list[4:8]"
      ]
    },
    {
      "cell_type": "code",
      "execution_count": 1120,
      "metadata": {
        "colab": {
          "base_uri": "https://localhost:8080/"
        },
        "id": "DZkWhBjef5-I",
        "outputId": "d3a7cce0-a6d5-43b3-890f-42246ec35a13"
      },
      "outputs": [
        {
          "output_type": "execute_result",
          "data": {
            "text/plain": [
              "[20, 15, 25, 10, 30, 5, 'zimba', 'brownie']"
            ]
          },
          "metadata": {},
          "execution_count": 1120
        }
      ],
      "source": [
        "#will replace the value at the index 6.\n",
        "list[6]='zimba'\n",
        "list"
      ]
    },
    {
      "cell_type": "code",
      "execution_count": 1121,
      "metadata": {
        "colab": {
          "base_uri": "https://localhost:8080/"
        },
        "id": "xRUePu0izh79",
        "outputId": "bc23e506-f475-4e03-8341-1d1c318c52ac"
      },
      "outputs": [
        {
          "output_type": "execute_result",
          "data": {
            "text/plain": [
              "[20, 15, 25, 10, 30, 5, 'jimmy', 'brownie']"
            ]
          },
          "metadata": {},
          "execution_count": 1121
        }
      ],
      "source": [
        "list[6]='jimmy'\n",
        "list"
      ]
    },
    {
      "cell_type": "code",
      "execution_count": 1122,
      "metadata": {
        "colab": {
          "base_uri": "https://localhost:8080/"
        },
        "id": "pEhwBa2gf_rN",
        "outputId": "1745d5e1-5eb3-4ca8-f520-2acd4a1260b3"
      },
      "outputs": [
        {
          "output_type": "execute_result",
          "data": {
            "text/plain": [
              "[20, 15, 25, 10, 30, 5, 'jimmy', 'brownie', 'blacky']"
            ]
          },
          "metadata": {},
          "execution_count": 1122
        }
      ],
      "source": [
        "#will add the value at the end of the list.\n",
        "list.append('blacky')\n",
        "list"
      ]
    },
    {
      "cell_type": "code",
      "execution_count": 1123,
      "metadata": {
        "colab": {
          "base_uri": "https://localhost:8080/"
        },
        "id": "XYlJAMC8gFqw",
        "outputId": "c98d4ab6-7b58-436a-ee1f-dfd4ae283bc0"
      },
      "outputs": [
        {
          "output_type": "execute_result",
          "data": {
            "text/plain": [
              "[20, 15, 25, 10, 'pekky', 30, 5, 'jimmy', 'brownie', 'blacky']"
            ]
          },
          "metadata": {},
          "execution_count": 1123
        }
      ],
      "source": [
        "#will add the value at the index 4.\n",
        "list.insert(4,'pekky')\n",
        "list"
      ]
    },
    {
      "cell_type": "code",
      "execution_count": 1124,
      "metadata": {
        "colab": {
          "base_uri": "https://localhost:8080/"
        },
        "id": "4QZRJxc1058l",
        "outputId": "9bf454e1-9492-4693-9244-ff72144404e4"
      },
      "outputs": [
        {
          "output_type": "execute_result",
          "data": {
            "text/plain": [
              "[20, 15, 25, 10, 'pekky', 30, 'pinki', 5, 'jimmy', 'brownie', 'blacky']"
            ]
          },
          "metadata": {},
          "execution_count": 1124
        }
      ],
      "source": [
        "list.insert(6,'pinki')\n",
        "list"
      ]
    },
    {
      "cell_type": "markdown",
      "source": [
        "**List Operations In Python**"
      ],
      "metadata": {
        "id": "Vz53FqZ8xCxh"
      }
    },
    {
      "cell_type": "markdown",
      "source": [
        "append\n",
        "\n",
        "clear\n",
        "\n",
        "copy\n",
        "\n",
        "count\n",
        "\n",
        "extend\n",
        "\n",
        "insert\n",
        "\n",
        "index\n",
        "\n",
        "pop\n",
        "\n",
        "remove\n",
        "\n",
        "reverse\n",
        "\n",
        "sort"
      ],
      "metadata": {
        "id": "MfSo62UZxLZQ"
      }
    },
    {
      "cell_type": "code",
      "source": [
        "A=[10, 20, 30, 40, 50, 60, 70, 80, 90, 100]"
      ],
      "metadata": {
        "id": "r2uhLy0gxVWD"
      },
      "execution_count": 1125,
      "outputs": []
    },
    {
      "cell_type": "code",
      "source": [
        "#Append\n",
        "#the output will have 88 at the end of the list.\n",
        "\n",
        "A.append(88)\n",
        "A"
      ],
      "metadata": {
        "id": "a5D2B9NwxCLl",
        "colab": {
          "base_uri": "https://localhost:8080/"
        },
        "outputId": "31a6b946-b4af-4563-b056-d9b917a08ce1"
      },
      "execution_count": 1126,
      "outputs": [
        {
          "output_type": "execute_result",
          "data": {
            "text/plain": [
              "[10, 20, 30, 40, 50, 60, 70, 80, 90, 100, 88]"
            ]
          },
          "metadata": {},
          "execution_count": 1126
        }
      ]
    },
    {
      "cell_type": "code",
      "source": [
        "#Clear\n",
        "#this will clear the list or empty the list.\n",
        "\n",
        "A.clear()\n",
        "A"
      ],
      "metadata": {
        "id": "JOsg513RH15w",
        "colab": {
          "base_uri": "https://localhost:8080/"
        },
        "outputId": "b50646d2-f056-497f-eead-488615bb9f38"
      },
      "execution_count": 1127,
      "outputs": [
        {
          "output_type": "execute_result",
          "data": {
            "text/plain": [
              "[]"
            ]
          },
          "metadata": {},
          "execution_count": 1127
        }
      ]
    },
    {
      "cell_type": "code",
      "source": [
        "#Copy\n",
        "#it makes the copy of the list.\n",
        "A.copy()\n",
        "A"
      ],
      "metadata": {
        "id": "C578BNlmH8mF",
        "colab": {
          "base_uri": "https://localhost:8080/"
        },
        "outputId": "a5efe5d2-e820-45e1-9582-7a11a041ea78"
      },
      "execution_count": 1128,
      "outputs": [
        {
          "output_type": "execute_result",
          "data": {
            "text/plain": [
              "[]"
            ]
          },
          "metadata": {},
          "execution_count": 1128
        }
      ]
    },
    {
      "cell_type": "code",
      "source": [
        "A=[10, 20, 30, 40, 50, 60, 70, 80, 90, 100]"
      ],
      "metadata": {
        "id": "C-OQLBzR4YuB"
      },
      "execution_count": 1129,
      "outputs": []
    },
    {
      "cell_type": "code",
      "source": [
        "#Extend\n",
        "B=[10,20]\n",
        "#this will add the values in this list from the iterable object range.\n",
        "A.extend(B)\n",
        "A"
      ],
      "metadata": {
        "id": "nfPmhpEVILqb",
        "colab": {
          "base_uri": "https://localhost:8080/"
        },
        "outputId": "f407d1d2-f26d-4c65-fc52-453bb0ecb929"
      },
      "execution_count": 1130,
      "outputs": [
        {
          "output_type": "execute_result",
          "data": {
            "text/plain": [
              "[10, 20, 30, 40, 50, 60, 70, 80, 90, 100, 10, 20]"
            ]
          },
          "metadata": {},
          "execution_count": 1130
        }
      ]
    },
    {
      "cell_type": "code",
      "source": [
        "#Insert\n",
        "#this will add the value at the index value given\n",
        "A.insert(1,'apple')\n",
        "A"
      ],
      "metadata": {
        "id": "hnQFc2yHIY17",
        "colab": {
          "base_uri": "https://localhost:8080/"
        },
        "outputId": "7bdfec41-cc00-45dd-d2d6-58d8c9bace6c"
      },
      "execution_count": 1131,
      "outputs": [
        {
          "output_type": "execute_result",
          "data": {
            "text/plain": [
              "[10, 'apple', 20, 30, 40, 50, 60, 70, 80, 90, 100, 10, 20]"
            ]
          },
          "metadata": {},
          "execution_count": 1131
        }
      ]
    },
    {
      "cell_type": "code",
      "source": [
        "#Pop\n",
        "#this will pop the value from the  end of the list\n",
        "A.pop()\n",
        "A"
      ],
      "metadata": {
        "id": "n6bEpiRRIqMU",
        "colab": {
          "base_uri": "https://localhost:8080/"
        },
        "outputId": "c47a06f3-8d48-4430-ca2c-db7f944c40e5"
      },
      "execution_count": 1132,
      "outputs": [
        {
          "output_type": "execute_result",
          "data": {
            "text/plain": [
              "[10, 'apple', 20, 30, 40, 50, 60, 70, 80, 90, 100, 10]"
            ]
          },
          "metadata": {},
          "execution_count": 1132
        }
      ]
    },
    {
      "cell_type": "code",
      "source": [
        "#Remove\n",
        "#this will remove value from the list\n",
        "A.remove(70)\n",
        "A"
      ],
      "metadata": {
        "id": "fhGWLap5IqTe",
        "colab": {
          "base_uri": "https://localhost:8080/"
        },
        "outputId": "1aae0fdd-e7cb-4416-f47e-7dda3c0d777c"
      },
      "execution_count": 1133,
      "outputs": [
        {
          "output_type": "execute_result",
          "data": {
            "text/plain": [
              "[10, 'apple', 20, 30, 40, 50, 60, 80, 90, 100, 10]"
            ]
          },
          "metadata": {},
          "execution_count": 1133
        }
      ]
    },
    {
      "cell_type": "code",
      "source": [
        "#Reverse\n",
        "\n",
        "#this will reverse the list.\n",
        "A.reverse()\n",
        "A\n",
        "\n"
      ],
      "metadata": {
        "id": "hKRfXlDJIqYd",
        "colab": {
          "base_uri": "https://localhost:8080/"
        },
        "outputId": "862be00d-b071-435f-fa1a-ccd30f2d0438"
      },
      "execution_count": 1134,
      "outputs": [
        {
          "output_type": "execute_result",
          "data": {
            "text/plain": [
              "[10, 100, 90, 80, 60, 50, 40, 30, 20, 'apple', 10]"
            ]
          },
          "metadata": {},
          "execution_count": 1134
        }
      ]
    },
    {
      "cell_type": "code",
      "source": [
        "\n",
        "A.pop(9)\n",
        "A"
      ],
      "metadata": {
        "colab": {
          "base_uri": "https://localhost:8080/"
        },
        "id": "_pAys4wJ6FpZ",
        "outputId": "32871ce7-5aad-41a8-db5e-d12b7c470e7d"
      },
      "execution_count": 1135,
      "outputs": [
        {
          "output_type": "execute_result",
          "data": {
            "text/plain": [
              "[10, 100, 90, 80, 60, 50, 40, 30, 20, 10]"
            ]
          },
          "metadata": {},
          "execution_count": 1135
        }
      ]
    },
    {
      "cell_type": "code",
      "source": [
        "#Sort\n",
        "#it will get a sorted list as a result.\n",
        "A.sort()\n",
        "A"
      ],
      "metadata": {
        "id": "QLbysxHNJMXP",
        "colab": {
          "base_uri": "https://localhost:8080/"
        },
        "outputId": "017e61a8-97c2-4c9f-fa16-709c4e226f1b"
      },
      "execution_count": 1136,
      "outputs": [
        {
          "output_type": "execute_result",
          "data": {
            "text/plain": [
              "[10, 10, 20, 30, 40, 50, 60, 80, 90, 100]"
            ]
          },
          "metadata": {},
          "execution_count": 1136
        }
      ]
    },
    {
      "cell_type": "code",
      "source": [
        "#slicing list \n",
        "A[1:3]\n",
        "\n",
        "#it will get all the numbers starting from index 5 to index 10.\n",
        "\n",
        "A[5:10]\n",
        "#this will print all the numbers starting from index 2 until the end of the list.\n",
        "A[2:]\n",
        "\n",
        "#this will print all the numbers from index 0 until the index 6.\n",
        "A[0:6]"
      ],
      "metadata": {
        "id": "OPmMAzR_JkJe",
        "colab": {
          "base_uri": "https://localhost:8080/"
        },
        "outputId": "f697a30d-b8bd-4ced-879a-e7615c948486"
      },
      "execution_count": 1137,
      "outputs": [
        {
          "output_type": "execute_result",
          "data": {
            "text/plain": [
              "[10, 10, 20, 30, 40, 50]"
            ]
          },
          "metadata": {},
          "execution_count": 1137
        }
      ]
    },
    {
      "cell_type": "markdown",
      "metadata": {
        "id": "yYcVjudngNol"
      },
      "source": [
        "### **Tuples**\n",
        "\n",
        "collection which is unchangeable or immutable\n",
        "\n",
        "To declare a tuple we use the round brackets."
      ]
    },
    {
      "cell_type": "code",
      "execution_count": 1138,
      "metadata": {
        "colab": {
          "base_uri": "https://localhost:8080/"
        },
        "id": "ibZrwLTXgrhZ",
        "outputId": "f6e35b49-a7ab-467b-aefc-07188098f198"
      },
      "outputs": [
        {
          "output_type": "execute_result",
          "data": {
            "text/plain": [
              "7"
            ]
          },
          "metadata": {},
          "execution_count": 1138
        }
      ],
      "source": [
        "tuple=(10,20,10,30,20,40,30,50,30)\n",
        "#to count the number of elements\n",
        "tuple.count(10)\n",
        "tuple.count(30)\n",
        "\n",
        "#to find the index\n",
        "tuple.index(50)"
      ]
    },
    {
      "cell_type": "markdown",
      "metadata": {
        "id": "g7nKZIDdhDgn"
      },
      "source": [
        "### **Sets**\n",
        "\n",
        "A set is a collection which is unordered\n",
        "\n",
        "To declare a set in python we use the curly brackets."
      ]
    },
    {
      "cell_type": "code",
      "execution_count": 1139,
      "metadata": {
        "colab": {
          "base_uri": "https://localhost:8080/"
        },
        "id": "W9ToBtNchSp_",
        "outputId": "a91906b4-0687-400a-821e-d63d21b1ebe3"
      },
      "outputs": [
        {
          "output_type": "stream",
          "name": "stdout",
          "text": [
            "40\n",
            "10\n",
            "50\n",
            "20\n",
            "30\n"
          ]
        }
      ],
      "source": [
        "\n",
        "set={10,20,10,30,20,40,30,50,30}\n",
        "#will get all the values.\n",
        "for x in set:\n",
        " print(x)\n"
      ]
    },
    {
      "cell_type": "code",
      "execution_count": 1140,
      "metadata": {
        "colab": {
          "base_uri": "https://localhost:8080/"
        },
        "id": "M24ioamH25b0",
        "outputId": "fcfcd40c-eef1-42cd-9756-1fad4f69f910"
      },
      "outputs": [
        {
          "output_type": "stream",
          "name": "stdout",
          "text": [
            "40\n",
            "10\n",
            "50\n",
            "20\n",
            "30\n"
          ]
        }
      ],
      "source": [
        "for x in set:\n",
        "  print(x)"
      ]
    },
    {
      "cell_type": "code",
      "execution_count": 1141,
      "metadata": {
        "colab": {
          "base_uri": "https://localhost:8080/"
        },
        "id": "1NBgxQXRhU_W",
        "outputId": "8c578373-4534-40fe-b011-5dbdb79bb4c5"
      },
      "outputs": [
        {
          "output_type": "execute_result",
          "data": {
            "text/plain": [
              "True"
            ]
          },
          "metadata": {},
          "execution_count": 1141
        }
      ],
      "source": [
        "20 in set\n",
        "#will  return true if the value is in the set."
      ]
    },
    {
      "cell_type": "code",
      "execution_count": 1142,
      "metadata": {
        "colab": {
          "base_uri": "https://localhost:8080/"
        },
        "id": "YaKq75Bq3NIM",
        "outputId": "5897136c-4336-4eea-a533-d5992688eaab"
      },
      "outputs": [
        {
          "output_type": "execute_result",
          "data": {
            "text/plain": [
              "False"
            ]
          },
          "metadata": {},
          "execution_count": 1142
        }
      ],
      "source": [
        "100 in set"
      ]
    },
    {
      "cell_type": "code",
      "execution_count": 1143,
      "metadata": {
        "colab": {
          "base_uri": "https://localhost:8080/"
        },
        "id": "8aw1vrM5hblJ",
        "outputId": "1ff39f88-1824-4d0c-ad74-d4c621665a76"
      },
      "outputs": [
        {
          "output_type": "execute_result",
          "data": {
            "text/plain": [
              "{10, 20, 30, 40, 50, 'pekky'}"
            ]
          },
          "metadata": {},
          "execution_count": 1143
        }
      ],
      "source": [
        "#add a value in a set\n",
        "set.add('pekky')\n",
        "set"
      ]
    },
    {
      "cell_type": "code",
      "execution_count": 1144,
      "metadata": {
        "colab": {
          "base_uri": "https://localhost:8080/"
        },
        "id": "4Q_ePAJh3g4S",
        "outputId": "fd9fe0b9-7d43-4228-ee95-7b42fb95d674"
      },
      "outputs": [
        {
          "output_type": "execute_result",
          "data": {
            "text/plain": [
              "{10, 100, 20, 30, 40, 50, 'pekky'}"
            ]
          },
          "metadata": {},
          "execution_count": 1144
        }
      ],
      "source": [
        "set.add(100)\n",
        "set"
      ]
    },
    {
      "cell_type": "code",
      "execution_count": 1145,
      "metadata": {
        "colab": {
          "base_uri": "https://localhost:8080/"
        },
        "id": "a2nn7HSq3x_U",
        "outputId": "5c7add08-559a-402e-a06e-162cbae94714"
      },
      "outputs": [
        {
          "output_type": "execute_result",
          "data": {
            "text/plain": [
              "True"
            ]
          },
          "metadata": {},
          "execution_count": 1145
        }
      ],
      "source": [
        "100 in set"
      ]
    },
    {
      "cell_type": "code",
      "execution_count": 1146,
      "metadata": {
        "colab": {
          "base_uri": "https://localhost:8080/"
        },
        "id": "tGI5vZYKhnIv",
        "outputId": "ddab3cbb-691d-4a49-b4ce-8117521be6a1"
      },
      "outputs": [
        {
          "output_type": "execute_result",
          "data": {
            "text/plain": [
              "{10, 20, 30, 40, 50, 100}"
            ]
          },
          "metadata": {},
          "execution_count": 1146
        }
      ],
      "source": [
        "#to remove an item from a set\n",
        "set.remove('pekky')\n",
        "set"
      ]
    },
    {
      "cell_type": "code",
      "execution_count": 1147,
      "metadata": {
        "id": "RkwMCbUKhod7",
        "colab": {
          "base_uri": "https://localhost:8080/"
        },
        "outputId": "d7fa590f-d5b1-4169-dcf1-ae17e9d342a0"
      },
      "outputs": [
        {
          "output_type": "execute_result",
          "data": {
            "text/plain": [
              "False"
            ]
          },
          "metadata": {},
          "execution_count": 1147
        }
      ],
      "source": [
        "\n",
        "set1={1,2,3}\n",
        "set2={2,3,4}\n",
        "set1.issubset(set2)\n",
        "#to check subset or not"
      ]
    },
    {
      "cell_type": "code",
      "execution_count": 1148,
      "metadata": {
        "id": "k6yMPlA7hwRD",
        "colab": {
          "base_uri": "https://localhost:8080/"
        },
        "outputId": "d857ed6f-09cd-4db0-d7a6-f399563cecc8"
      },
      "outputs": [
        {
          "output_type": "execute_result",
          "data": {
            "text/plain": [
              "{1, 2, 3, 4}"
            ]
          },
          "metadata": {},
          "execution_count": 1148
        }
      ],
      "source": [
        "#this will return a set with the union of the two sets.\n",
        "set1.union(set2)"
      ]
    },
    {
      "cell_type": "markdown",
      "metadata": {
        "id": "XSWPLNhFiDnU"
      },
      "source": [
        "### **Dictionary**\n",
        "\n"
      ]
    },
    {
      "cell_type": "code",
      "execution_count": 1149,
      "metadata": {
        "id": "VinefndTiKVe",
        "colab": {
          "base_uri": "https://localhost:8080/"
        },
        "outputId": "bb3e10d1-4fab-48d9-e2dc-5d02871bf02a"
      },
      "outputs": [
        {
          "output_type": "execute_result",
          "data": {
            "text/plain": [
              "{'Email': 'kichu2gmail.com', 'Name': 'Christy', 'Phone number': '7000070000'}"
            ]
          },
          "metadata": {},
          "execution_count": 1149
        }
      ],
      "source": [
        "# we created a dictionary now, with key: name, email, phone number\n",
        "# and values christy, kichu@gmail.com, 7000070000\n",
        "dict1={\"Name\" :\"Christy\",\n",
        "       \"Email\" :\"kichu2gmail.com\",\n",
        "       \"Phone number\": \"7000070000\"}\n",
        "dict1\n"
      ]
    },
    {
      "cell_type": "code",
      "source": [
        "# now to seperately call each key from the dictionary we can use the code\n",
        "a=dict1['Phone number']\n",
        "a\n"
      ],
      "metadata": {
        "id": "Xi63x5EeGxhS",
        "colab": {
          "base_uri": "https://localhost:8080/",
          "height": 35
        },
        "outputId": "97f8d8c1-35d1-4632-9c86-bd9bbf4a4624"
      },
      "execution_count": 1150,
      "outputs": [
        {
          "output_type": "execute_result",
          "data": {
            "text/plain": [
              "'7000070000'"
            ],
            "application/vnd.google.colaboratory.intrinsic+json": {
              "type": "string"
            }
          },
          "metadata": {},
          "execution_count": 1150
        }
      ]
    },
    {
      "cell_type": "code",
      "source": [
        "# change value in the dictionary\n",
        "dict1[\"Name\"]=\"Catherine\"\n",
        "print(dict1)\n",
        "\n"
      ],
      "metadata": {
        "id": "SA7Kzy4QGxjv",
        "colab": {
          "base_uri": "https://localhost:8080/"
        },
        "outputId": "d57467df-686e-4298-f11f-b1fb4da3aff7"
      },
      "execution_count": 1151,
      "outputs": [
        {
          "output_type": "stream",
          "name": "stdout",
          "text": [
            "{'Name': 'Catherine', 'Email': 'kichu2gmail.com', 'Phone number': '7000070000'}\n"
          ]
        }
      ]
    },
    {
      "cell_type": "code",
      "source": [
        "dict1[\"Email\"]=\"kathieee2gmail.com\"\n",
        "print(dict1)"
      ],
      "metadata": {
        "colab": {
          "base_uri": "https://localhost:8080/"
        },
        "id": "9KUH3LhjUv-e",
        "outputId": "f42cbc0a-6b00-4d45-cd0f-85b375937fcc"
      },
      "execution_count": 1152,
      "outputs": [
        {
          "output_type": "stream",
          "name": "stdout",
          "text": [
            "{'Name': 'Catherine', 'Email': 'kathieee2gmail.com', 'Phone number': '7000070000'}\n"
          ]
        }
      ]
    },
    {
      "cell_type": "code",
      "source": [
        "#To get Key words headings\n",
        "for x in dict1:\n",
        "  print(x)"
      ],
      "metadata": {
        "id": "v0bP9hGnGxnX",
        "colab": {
          "base_uri": "https://localhost:8080/"
        },
        "outputId": "23c511d2-b57d-42d9-cd0f-648867fe58cc"
      },
      "execution_count": 1153,
      "outputs": [
        {
          "output_type": "stream",
          "name": "stdout",
          "text": [
            "Name\n",
            "Email\n",
            "Phone number\n"
          ]
        }
      ]
    },
    {
      "cell_type": "code",
      "source": [
        "#To get value \n",
        "for x in dict1:\n",
        "  print(dict1[x])"
      ],
      "metadata": {
        "id": "eZmwvs4TGxqM",
        "colab": {
          "base_uri": "https://localhost:8080/"
        },
        "outputId": "017ae6db-4099-43c3-a07b-59df2221a83a"
      },
      "execution_count": 1154,
      "outputs": [
        {
          "output_type": "stream",
          "name": "stdout",
          "text": [
            "Catherine\n",
            "kathieee2gmail.com\n",
            "7000070000\n"
          ]
        }
      ]
    },
    {
      "cell_type": "code",
      "source": [
        "# to get both key and values\n",
        "for x,y in dict1.items():\n",
        "  print(x,y)"
      ],
      "metadata": {
        "id": "BwYyilBdGxte",
        "colab": {
          "base_uri": "https://localhost:8080/"
        },
        "outputId": "067a9a36-478f-472b-ffbf-7fd9e8ba4b0b"
      },
      "execution_count": 1155,
      "outputs": [
        {
          "output_type": "stream",
          "name": "stdout",
          "text": [
            "Name Catherine\n",
            "Email kathieee2gmail.com\n",
            "Phone number 7000070000\n"
          ]
        }
      ]
    },
    {
      "cell_type": "code",
      "source": [
        "# to get the length of dictionary\n",
        "print(len(dict1))"
      ],
      "metadata": {
        "id": "1tBdvmumHQwU",
        "colab": {
          "base_uri": "https://localhost:8080/"
        },
        "outputId": "a8af500a-6c75-4898-8356-eaf7f1958d15"
      },
      "execution_count": 1156,
      "outputs": [
        {
          "output_type": "stream",
          "name": "stdout",
          "text": [
            "3\n"
          ]
        }
      ]
    },
    {
      "cell_type": "code",
      "source": [
        "# to add some more key and values into dictionary\n",
        "dict1[\"Age\"]=20\n",
        "print(dict1)"
      ],
      "metadata": {
        "id": "uiYXz3TCHQzz",
        "colab": {
          "base_uri": "https://localhost:8080/"
        },
        "outputId": "4cc8e324-78a5-47ec-c653-31e6101a51d7"
      },
      "execution_count": 1157,
      "outputs": [
        {
          "output_type": "stream",
          "name": "stdout",
          "text": [
            "{'Name': 'Catherine', 'Email': 'kathieee2gmail.com', 'Phone number': '7000070000', 'Age': 20}\n"
          ]
        }
      ]
    },
    {
      "cell_type": "code",
      "source": [
        "print(len(dict1))"
      ],
      "metadata": {
        "colab": {
          "base_uri": "https://localhost:8080/"
        },
        "id": "D4uw4x-wWX2u",
        "outputId": "783de21a-01f6-4ab4-97ac-c02f14361473"
      },
      "execution_count": 1158,
      "outputs": [
        {
          "output_type": "stream",
          "name": "stdout",
          "text": [
            "4\n"
          ]
        }
      ]
    },
    {
      "cell_type": "code",
      "source": [
        "dict1[\"Place\"]=\"Angamaly\"\n",
        "print(dict1)"
      ],
      "metadata": {
        "colab": {
          "base_uri": "https://localhost:8080/"
        },
        "id": "Bhfsh7AiWf0A",
        "outputId": "e24c5886-3a22-467b-d1ba-ceb55673e0be"
      },
      "execution_count": 1159,
      "outputs": [
        {
          "output_type": "stream",
          "name": "stdout",
          "text": [
            "{'Name': 'Catherine', 'Email': 'kathieee2gmail.com', 'Phone number': '7000070000', 'Age': 20, 'Place': 'Angamaly'}\n"
          ]
        }
      ]
    },
    {
      "cell_type": "code",
      "source": [
        "print(len(dict1))"
      ],
      "metadata": {
        "colab": {
          "base_uri": "https://localhost:8080/"
        },
        "id": "Ujmt2fatWsOE",
        "outputId": "8c9fd92e-779a-4073-cdb0-291c223b6ab8"
      },
      "execution_count": 1160,
      "outputs": [
        {
          "output_type": "stream",
          "name": "stdout",
          "text": [
            "5\n"
          ]
        }
      ]
    },
    {
      "cell_type": "code",
      "source": [
        "#to remove value \n",
        "dict1.pop(\"Email\")\n",
        "dict1      "
      ],
      "metadata": {
        "id": "pfQxrfP-HQ2q",
        "colab": {
          "base_uri": "https://localhost:8080/"
        },
        "outputId": "3e2519d9-0ba0-455a-f87d-bdf4e1c6414a"
      },
      "execution_count": 1161,
      "outputs": [
        {
          "output_type": "execute_result",
          "data": {
            "text/plain": [
              "{'Age': 20,\n",
              " 'Name': 'Catherine',\n",
              " 'Phone number': '7000070000',\n",
              " 'Place': 'Angamaly'}"
            ]
          },
          "metadata": {},
          "execution_count": 1161
        }
      ]
    },
    {
      "cell_type": "code",
      "source": [
        "#to delet from dictionary\n",
        "del dict1[\"Place\"]\n",
        "dict1"
      ],
      "metadata": {
        "id": "QwUo_2goHQ5v",
        "colab": {
          "base_uri": "https://localhost:8080/"
        },
        "outputId": "74b3b859-ca6e-4e3d-adaf-367554d2046b"
      },
      "execution_count": 1162,
      "outputs": [
        {
          "output_type": "execute_result",
          "data": {
            "text/plain": [
              "{'Age': 20, 'Name': 'Catherine', 'Phone number': '7000070000'}"
            ]
          },
          "metadata": {},
          "execution_count": 1162
        }
      ]
    }
  ],
  "metadata": {
    "colab": {
      "name": "0.Basic Python, .ipynb",
      "provenance": []
    },
    "kernelspec": {
      "display_name": "Python 3",
      "name": "python3"
    },
    "language_info": {
      "name": "python"
    }
  },
  "nbformat": 4,
  "nbformat_minor": 0
}