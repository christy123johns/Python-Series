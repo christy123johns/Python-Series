{
  "nbformat": 4,
  "nbformat_minor": 0,
  "metadata": {
    "colab": {
      "name": "3.Multiplication.ipynb",
      "provenance": []
    },
    "kernelspec": {
      "name": "python3",
      "display_name": "Python 3"
    },
    "language_info": {
      "name": "python"
    }
  },
  "cells": [
    {
      "cell_type": "markdown",
      "source": [
        "### To Multiply 2 numbers \n",
        "1st assign data into string\\\n",
        "input a number"
      ],
      "metadata": {
        "id": "qrpk13cQZYT5"
      }
    },
    {
      "cell_type": "code",
      "source": [
        "a=2\n",
        "b=10\n",
        "c=a*b\n",
        "c"
      ],
      "metadata": {
        "colab": {
          "base_uri": "https://localhost:8080/"
        },
        "id": "IzUiZK81baNl",
        "outputId": "1ad9b3c2-0ae9-42ab-bbe8-e80ff85721d0"
      },
      "execution_count": 28,
      "outputs": [
        {
          "output_type": "execute_result",
          "data": {
            "text/plain": [
              "20"
            ]
          },
          "metadata": {},
          "execution_count": 28
        }
      ]
    },
    {
      "cell_type": "markdown",
      "source": [
        "## or"
      ],
      "metadata": {
        "id": "y8Gj_tTNbhyt"
      }
    },
    {
      "cell_type": "code",
      "source": [
        "num1=input('first number:')\n"
      ],
      "metadata": {
        "colab": {
          "base_uri": "https://localhost:8080/"
        },
        "id": "jOAyb4x8ZzWF",
        "outputId": "89f44cb1-d9d7-454e-afa5-5e726e844e4e"
      },
      "execution_count": 29,
      "outputs": [
        {
          "name": "stdout",
          "output_type": "stream",
          "text": [
            "first number:2\n"
          ]
        }
      ]
    },
    {
      "cell_type": "code",
      "source": [
        "#back slash is given to come to next line\n",
        "num2=input('\\nSecond number:')"
      ],
      "metadata": {
        "colab": {
          "base_uri": "https://localhost:8080/"
        },
        "id": "EF1foG_YZ6HA",
        "outputId": "dd78aaac-e503-4f2e-b99e-aa140cb13cee"
      },
      "execution_count": 30,
      "outputs": [
        {
          "name": "stdout",
          "output_type": "stream",
          "text": [
            "\n",
            "Second number:10\n"
          ]
        }
      ]
    },
    {
      "cell_type": "code",
      "source": [
        "#string converting to float\n",
        "Mul=float(num1)*float(num2)\n",
        "Mul"
      ],
      "metadata": {
        "colab": {
          "base_uri": "https://localhost:8080/"
        },
        "id": "h6OF2SGvaCj1",
        "outputId": "4b2c0d27-3d16-4c19-8851-3fdf8f3e3abf"
      },
      "execution_count": 31,
      "outputs": [
        {
          "output_type": "execute_result",
          "data": {
            "text/plain": [
              "20.0"
            ]
          },
          "metadata": {},
          "execution_count": 31
        }
      ]
    },
    {
      "cell_type": "code",
      "source": [
        "#to convert float into string format we give .format\n",
        "#here inside the curly brackets we give the index numbers of each code\n",
        "\n",
        "print('the Multiplied value of {0} and {1} is {2}' .format(num1,num2,Mul))"
      ],
      "metadata": {
        "colab": {
          "base_uri": "https://localhost:8080/"
        },
        "id": "JrxdLtvBaQz2",
        "outputId": "6913f7da-99c1-47b9-9d28-4442e56ade15"
      },
      "execution_count": 32,
      "outputs": [
        {
          "output_type": "stream",
          "name": "stdout",
          "text": [
            "the Multiplied value of 2 and 10 is 20.0\n"
          ]
        }
      ]
    }
  ]
}