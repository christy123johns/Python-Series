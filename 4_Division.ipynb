{
  "nbformat": 4,
  "nbformat_minor": 0,
  "metadata": {
    "colab": {
      "name": "4.Division.ipynb",
      "provenance": []
    },
    "kernelspec": {
      "name": "python3",
      "display_name": "Python 3"
    },
    "language_info": {
      "name": "python"
    }
  },
  "cells": [
    {
      "cell_type": "markdown",
      "source": [
        "### To Divide 2 numbers \n",
        "1st assign data into string\\\n",
        "input a number"
      ],
      "metadata": {
        "id": "qrpk13cQZYT5"
      }
    },
    {
      "cell_type": "code",
      "source": [
        "a=2\n",
        "b=10\n",
        "c=b/a\n",
        "c"
      ],
      "metadata": {
        "colab": {
          "base_uri": "https://localhost:8080/"
        },
        "id": "IzUiZK81baNl",
        "outputId": "39383630-8a30-4977-8e04-3fe6488c2251"
      },
      "execution_count": 53,
      "outputs": [
        {
          "output_type": "execute_result",
          "data": {
            "text/plain": [
              "5.0"
            ]
          },
          "metadata": {},
          "execution_count": 53
        }
      ]
    },
    {
      "cell_type": "markdown",
      "source": [
        "## or"
      ],
      "metadata": {
        "id": "y8Gj_tTNbhyt"
      }
    },
    {
      "cell_type": "code",
      "source": [
        "num1=input('first number:')\n"
      ],
      "metadata": {
        "colab": {
          "base_uri": "https://localhost:8080/"
        },
        "id": "jOAyb4x8ZzWF",
        "outputId": "2e2c4400-6e34-43c9-e0a7-16068aa86d12"
      },
      "execution_count": 54,
      "outputs": [
        {
          "name": "stdout",
          "output_type": "stream",
          "text": [
            "first number:10\n"
          ]
        }
      ]
    },
    {
      "cell_type": "code",
      "source": [
        "#back slash is given to come to next line\n",
        "num2=input('\\nSecond number:')"
      ],
      "metadata": {
        "colab": {
          "base_uri": "https://localhost:8080/"
        },
        "id": "EF1foG_YZ6HA",
        "outputId": "62e4c855-6242-4cac-a84e-d037f98fa1a5"
      },
      "execution_count": 55,
      "outputs": [
        {
          "name": "stdout",
          "output_type": "stream",
          "text": [
            "\n",
            "Second number:2\n"
          ]
        }
      ]
    },
    {
      "cell_type": "code",
      "source": [
        "#string converting to float\n",
        "div=float(num1)/float(num2)\n",
        "div"
      ],
      "metadata": {
        "colab": {
          "base_uri": "https://localhost:8080/"
        },
        "id": "h6OF2SGvaCj1",
        "outputId": "44a230e5-30df-4d82-fc70-9fe4df9e4460"
      },
      "execution_count": 56,
      "outputs": [
        {
          "output_type": "execute_result",
          "data": {
            "text/plain": [
              "5.0"
            ]
          },
          "metadata": {},
          "execution_count": 56
        }
      ]
    },
    {
      "cell_type": "code",
      "source": [
        "#to convert float into string format we give .format\n",
        "#here inside the curly brackets we give the index numbers of each code\n",
        "\n",
        "print('the divided value of {0} and {1} is {2}' .format(num1,num2,div))"
      ],
      "metadata": {
        "colab": {
          "base_uri": "https://localhost:8080/"
        },
        "id": "JrxdLtvBaQz2",
        "outputId": "1e3973b8-0591-4a96-e17a-0d037c094307"
      },
      "execution_count": 57,
      "outputs": [
        {
          "output_type": "stream",
          "name": "stdout",
          "text": [
            "the divided value of 10 and 2 is 5.0\n"
          ]
        }
      ]
    }
  ]
}