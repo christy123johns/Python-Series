{
  "nbformat": 4,
  "nbformat_minor": 0,
  "metadata": {
    "colab": {
      "name": "5.Maximum_simple code.ipynb",
      "provenance": [],
      "collapsed_sections": []
    },
    "kernelspec": {
      "name": "python3",
      "display_name": "Python 3"
    },
    "language_info": {
      "name": "python"
    }
  },
  "cells": [
    {
      "cell_type": "markdown",
      "source": [
        "## **Maximum**"
      ],
      "metadata": {
        "id": "qrpk13cQZYT5"
      }
    },
    {
      "cell_type": "code",
      "source": [
        "#to find the maximum\n",
        "\n",
        "a=input('First number: ')\n"
      ],
      "metadata": {
        "colab": {
          "base_uri": "https://localhost:8080/"
        },
        "id": "IzUiZK81baNl",
        "outputId": "ef97739a-5a15-4368-fbce-1e4f2011c493"
      },
      "execution_count": 113,
      "outputs": [
        {
          "name": "stdout",
          "output_type": "stream",
          "text": [
            "First number: 8\n"
          ]
        }
      ]
    },
    {
      "cell_type": "code",
      "source": [
        "b=input('Second number: ')\n"
      ],
      "metadata": {
        "colab": {
          "base_uri": "https://localhost:8080/"
        },
        "id": "mPQ9IkC1dssW",
        "outputId": "8ca4a0ef-cbc0-4861-9e57-b192cbf9edc5"
      },
      "execution_count": 114,
      "outputs": [
        {
          "name": "stdout",
          "output_type": "stream",
          "text": [
            "Second number: 2\n"
          ]
        }
      ]
    },
    {
      "cell_type": "code",
      "source": [
        "#to find the maximum we given a,b\n",
        "maximum=max(a,b)\n",
        "print(maximum)"
      ],
      "metadata": {
        "colab": {
          "base_uri": "https://localhost:8080/"
        },
        "id": "izJhhq7VduEb",
        "outputId": "162e9484-a082-410e-82bc-5757a53c1e30"
      },
      "execution_count": 115,
      "outputs": [
        {
          "output_type": "stream",
          "name": "stdout",
          "text": [
            "8\n"
          ]
        }
      ]
    },
    {
      "cell_type": "code",
      "source": [
        "#to find the maximum\n",
        "#always try to minimize the code\n",
        "\n",
        "a=input('First No:')\n",
        "b=input('Second No:')\n",
        "print(max(a,b))"
      ],
      "metadata": {
        "colab": {
          "base_uri": "https://localhost:8080/"
        },
        "id": "Vf6AmpNAggBf",
        "outputId": "847a22eb-2185-4ce2-e1cb-17e85fe552ca"
      },
      "execution_count": 116,
      "outputs": [
        {
          "output_type": "stream",
          "name": "stdout",
          "text": [
            "First No:8\n",
            "Second No:2\n",
            "8\n"
          ]
        }
      ]
    }
  ]
}