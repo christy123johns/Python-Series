{
  "nbformat": 4,
  "nbformat_minor": 0,
  "metadata": {
    "colab": {
      "name": "6.palindrome.ipynb",
      "provenance": [],
      "collapsed_sections": []
    },
    "kernelspec": {
      "name": "python3",
      "display_name": "Python 3"
    },
    "language_info": {
      "name": "python"
    }
  },
  "cells": [
    {
      "cell_type": "markdown",
      "source": [
        "## **Palindrom**"
      ],
      "metadata": {
        "id": "WLfYUumav1Np"
      }
    },
    {
      "cell_type": "code",
      "source": [
        "def isPalindrome(s):\n",
        "    return s == s[::-1]\n",
        " \n",
        " \n",
        "# Driver code\n",
        "s = \"malayalam\"\n",
        "ans = isPalindrome(s)\n",
        " \n",
        "if ans:\n",
        "  \n",
        "    print(\"Yes\")\n",
        "else:\n",
        "    print(\"No\")"
      ],
      "metadata": {
        "id": "51UTPRCAwdcR",
        "colab": {
          "base_uri": "https://localhost:8080/"
        },
        "outputId": "842358c3-fa53-48cb-d582-ebbd0ba6108f"
      },
      "execution_count": 1,
      "outputs": [
        {
          "output_type": "stream",
          "name": "stdout",
          "text": [
            "Yes\n"
          ]
        }
      ]
    },
    {
      "cell_type": "markdown",
      "source": [
        "### **Palindrom Examples**"
      ],
      "metadata": {
        "id": "qtbURDzI4ahk"
      }
    },
    {
      "cell_type": "code",
      "source": [
        "inp=input()\n",
        "if inp==inp[::-1]:\n",
        "  print(\"Palindrom\")\n",
        "else:\n",
        "  print(\"Not palindrom\")"
      ],
      "metadata": {
        "id": "HfuQrA2G4djF",
        "colab": {
          "base_uri": "https://localhost:8080/"
        },
        "outputId": "8cdae8a0-ff0f-4322-a642-5162f8643714"
      },
      "execution_count": 2,
      "outputs": [
        {
          "output_type": "stream",
          "name": "stdout",
          "text": [
            "Mam\n",
            "Not palindrom\n"
          ]
        }
      ]
    },
    {
      "cell_type": "code",
      "source": [
        "inp=input()\n",
        "if inp.lower()==inp[::-1].lower():\n",
        "  print(\"Palindrom\")\n",
        "else:\n",
        "  print(\"Not palindrom\")\n",
        "  "
      ],
      "metadata": {
        "id": "KeDRmrab5L4Q",
        "colab": {
          "base_uri": "https://localhost:8080/"
        },
        "outputId": "726bc67a-634c-467e-ca1b-08c11c19749f"
      },
      "execution_count": 3,
      "outputs": [
        {
          "output_type": "stream",
          "name": "stdout",
          "text": [
            "Mam\n",
            "Palindrom\n"
          ]
        }
      ]
    },
    {
      "cell_type": "code",
      "source": [
        "inp=input()\n",
        "if inp.lower()==inp[::-1].lower():\n",
        "  print(\"Palindrom\")\n",
        "else:\n",
        "  print(\"Not plaindrom\")"
      ],
      "metadata": {
        "id": "-F2vidwZ5qO6",
        "colab": {
          "base_uri": "https://localhost:8080/"
        },
        "outputId": "bba2f4cc-8ed4-4cfa-9239-9b0bcae40f38"
      },
      "execution_count": 4,
      "outputs": [
        {
          "output_type": "stream",
          "name": "stdout",
          "text": [
            "198891\n",
            "Palindrom\n"
          ]
        }
      ]
    },
    {
      "cell_type": "code",
      "source": [
        "inp=input()\n",
        "if inp.lower()==inp[::-1].lower():\n",
        "  print(\"Palindrom\")\n",
        "else:\n",
        "  print(\"Not plaindrom\")"
      ],
      "metadata": {
        "id": "OJRlpmqyxVZZ",
        "colab": {
          "base_uri": "https://localhost:8080/"
        },
        "outputId": "4e9502be-9f60-4e2b-f895-3585643cce4b"
      },
      "execution_count": 5,
      "outputs": [
        {
          "output_type": "stream",
          "name": "stdout",
          "text": [
            "123456\n",
            "Not plaindrom\n"
          ]
        }
      ]
    },
    {
      "cell_type": "code",
      "source": [
        "xyz=input()\n",
        "if xyz.lower()==xyz[::-1].lower:\n",
        "  print(\"Palindrom\")\n",
        "else:\n",
        "  print(\"Not palindrom\")"
      ],
      "metadata": {
        "colab": {
          "base_uri": "https://localhost:8080/"
        },
        "id": "zgAu7lvsqTuf",
        "outputId": "24e60a93-2dba-43af-a7da-d8801bb0bd6b"
      },
      "execution_count": 6,
      "outputs": [
        {
          "output_type": "stream",
          "name": "stdout",
          "text": [
            "Good Day\n",
            "Not palindrom\n"
          ]
        }
      ]
    },
    {
      "cell_type": "code",
      "source": [
        "bb = input()\n",
        "\n",
        "if bb.lower() == bb[::-1].lower:\n",
        "  print(\"Palindrome\")\n",
        "\n",
        "else:\n",
        "  print(\"Not Palindrome\")\n"
      ],
      "metadata": {
        "colab": {
          "base_uri": "https://localhost:8080/"
        },
        "id": "R8YkM7A8_tya",
        "outputId": "a19b49c2-e851-4060-a1c3-91a6d6b5dd54"
      },
      "execution_count": 7,
      "outputs": [
        {
          "output_type": "stream",
          "name": "stdout",
          "text": [
            "784531\n",
            "Not Palindrome\n"
          ]
        }
      ]
    },
    {
      "cell_type": "code",
      "source": [
        "fam=input()\n",
        "if fam.lower()==fam[::-1].lower():\n",
        "  print(\"Palindrom\")\n",
        "else:\n",
        "  print(\"Not plaindrom\")"
      ],
      "metadata": {
        "colab": {
          "base_uri": "https://localhost:8080/"
        },
        "id": "gNTBUyBE_8Ar",
        "outputId": "c5ce5647-47e6-4f05-9fef-c108eba56d17"
      },
      "execution_count": 8,
      "outputs": [
        {
          "output_type": "stream",
          "name": "stdout",
          "text": [
            "897798\n",
            "Palindrom\n"
          ]
        }
      ]
    },
    {
      "cell_type": "code",
      "source": [
        "inp=input()\n",
        "if inp.lower()==inp[::-1].lower():\n",
        "  print(\"Palindrom\")\n",
        "else:\n",
        "  print(\"Not palindrom\")"
      ],
      "metadata": {
        "colab": {
          "base_uri": "https://localhost:8080/"
        },
        "id": "PIqN68gOCA_4",
        "outputId": "7c699adc-4246-4525-da96-c9b04680b1ad"
      },
      "execution_count": 9,
      "outputs": [
        {
          "output_type": "stream",
          "name": "stdout",
          "text": [
            "Malayalam\n",
            "Palindrom\n"
          ]
        }
      ]
    },
    {
      "cell_type": "code",
      "source": [
        "rst=input()\n",
        "if rst.lower()==rst[::-1].lower():\n",
        "  print(\"Palindrom\")\n",
        "else:\n",
        "  print(\"Not palindrom\")"
      ],
      "metadata": {
        "colab": {
          "base_uri": "https://localhost:8080/"
        },
        "id": "3vBqM1qerd1c",
        "outputId": "d6c0560e-6972-4383-f200-f9acefa262f1"
      },
      "execution_count": 10,
      "outputs": [
        {
          "output_type": "stream",
          "name": "stdout",
          "text": [
            "AMMA\n",
            "Palindrom\n"
          ]
        }
      ]
    },
    {
      "cell_type": "code",
      "source": [
        "inp=input()\n",
        "if inp.lower()==inp[::-1].lower():\n",
        "  print(\"Palindrom\")\n",
        "else:\n",
        "  print(\"Not plaindrom\")"
      ],
      "metadata": {
        "colab": {
          "base_uri": "https://localhost:8080/"
        },
        "id": "i8B24NUuDTxo",
        "outputId": "e930be23-0bee-40d4-aa9c-7440f14e4afe"
      },
      "execution_count": 11,
      "outputs": [
        {
          "output_type": "stream",
          "name": "stdout",
          "text": [
            "Maya\n",
            "Not plaindrom\n"
          ]
        }
      ]
    }
  ]
}