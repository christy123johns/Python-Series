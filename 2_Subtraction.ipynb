{
  "nbformat": 4,
  "nbformat_minor": 0,
  "metadata": {
    "colab": {
      "name": "2.Subtraction.ipynb",
      "provenance": []
    },
    "kernelspec": {
      "name": "python3",
      "display_name": "Python 3"
    },
    "language_info": {
      "name": "python"
    }
  },
  "cells": [
    {
      "cell_type": "markdown",
      "source": [
        "### To Subtract 2 numbers \n",
        "1st assign data into string\\\n",
        "input a number"
      ],
      "metadata": {
        "id": "qrpk13cQZYT5"
      }
    },
    {
      "cell_type": "code",
      "source": [
        "a=2\n",
        "b=10\n",
        "c=b-a\n",
        "c"
      ],
      "metadata": {
        "colab": {
          "base_uri": "https://localhost:8080/"
        },
        "id": "IzUiZK81baNl",
        "outputId": "24f159c1-4703-4f1f-8fe6-1005d33773f5"
      },
      "execution_count": 43,
      "outputs": [
        {
          "output_type": "execute_result",
          "data": {
            "text/plain": [
              "8"
            ]
          },
          "metadata": {},
          "execution_count": 43
        }
      ]
    },
    {
      "cell_type": "markdown",
      "source": [
        "## or"
      ],
      "metadata": {
        "id": "y8Gj_tTNbhyt"
      }
    },
    {
      "cell_type": "code",
      "source": [
        "num1=input('first number:')\n"
      ],
      "metadata": {
        "colab": {
          "base_uri": "https://localhost:8080/"
        },
        "id": "jOAyb4x8ZzWF",
        "outputId": "a68fea42-7dcd-42be-a22c-c45412905f4d"
      },
      "execution_count": 44,
      "outputs": [
        {
          "name": "stdout",
          "output_type": "stream",
          "text": [
            "first number:10\n"
          ]
        }
      ]
    },
    {
      "cell_type": "code",
      "source": [
        "#back slash is given to come to next line\n",
        "num2=input('\\nSecond number:')"
      ],
      "metadata": {
        "colab": {
          "base_uri": "https://localhost:8080/"
        },
        "id": "EF1foG_YZ6HA",
        "outputId": "233f382d-ce70-4838-bacb-3a14409ae8bb"
      },
      "execution_count": 45,
      "outputs": [
        {
          "name": "stdout",
          "output_type": "stream",
          "text": [
            "\n",
            "Second number:2\n"
          ]
        }
      ]
    },
    {
      "cell_type": "code",
      "source": [
        "#string converting to float\n",
        "sub=float(num1)-float(num2)\n",
        "sub"
      ],
      "metadata": {
        "colab": {
          "base_uri": "https://localhost:8080/"
        },
        "id": "h6OF2SGvaCj1",
        "outputId": "73ede4cf-ba7d-49ed-8b60-3df41a68a40d"
      },
      "execution_count": 46,
      "outputs": [
        {
          "output_type": "execute_result",
          "data": {
            "text/plain": [
              "8.0"
            ]
          },
          "metadata": {},
          "execution_count": 46
        }
      ]
    },
    {
      "cell_type": "code",
      "source": [
        "#to convert float into string format we give .format\n",
        "#here inside the curly brackets we give the index numbers of each code\n",
        "\n",
        "print('the subracted value of {0} and {1} is {2}' .format(num1,num2,sub))"
      ],
      "metadata": {
        "colab": {
          "base_uri": "https://localhost:8080/"
        },
        "id": "JrxdLtvBaQz2",
        "outputId": "598cb39d-54b5-4f5a-ae9f-00c63ac10cfb"
      },
      "execution_count": 47,
      "outputs": [
        {
          "output_type": "stream",
          "name": "stdout",
          "text": [
            "the subracted value of 10 and 2 is 8.0\n"
          ]
        }
      ]
    }
  ]
}