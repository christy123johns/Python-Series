{
  "nbformat": 4,
  "nbformat_minor": 0,
  "metadata": {
    "colab": {
      "name": "0.Basic Python.ipynb",
      "provenance": []
    },
    "kernelspec": {
      "name": "python3",
      "display_name": "Python 3"
    },
    "language_info": {
      "name": "python"
    }
  },
  "cells": [
    {
      "cell_type": "markdown",
      "source": [
        "## Python Indentation"
      ],
      "metadata": {
        "id": "XkNGBgQXdwjY"
      }
    },
    {
      "cell_type": "code",
      "source": [
        "#Python Indentation\n",
        "#if we give if statement, before printing the we should give space before next code\n",
        "\n",
        "if 7 > 3:\n",
        "  print(\"Seven is greater than three!\")"
      ],
      "metadata": {
        "colab": {
          "base_uri": "https://localhost:8080/"
        },
        "outputId": "50208389-4410-49d0-ea1e-7926ec58c206",
        "id": "Rw9pwYWAdxpG"
      },
      "execution_count": 47,
      "outputs": [
        {
          "output_type": "stream",
          "name": "stdout",
          "text": [
            "Seven is greater than three!\n"
          ]
        }
      ]
    },
    {
      "cell_type": "code",
      "source": [
        "if 3 > 1:\n",
        " print(\"Three is greater than one!\") \n",
        "if 7 > 5:\n",
        "        print(\"Seven is greater than Five!\") \n"
      ],
      "metadata": {
        "colab": {
          "base_uri": "https://localhost:8080/"
        },
        "id": "B6IMv_CrCAJQ",
        "outputId": "f12b963f-266c-4772-c0ca-52a1af684932"
      },
      "execution_count": 48,
      "outputs": [
        {
          "output_type": "stream",
          "name": "stdout",
          "text": [
            "Three is greater than one!\n",
            "Seven is greater than Five!\n"
          ]
        }
      ]
    },
    {
      "cell_type": "markdown",
      "source": [
        "### Python Variable assigning"
      ],
      "metadata": {
        "id": "jHUQ2i0neBW8"
      }
    },
    {
      "cell_type": "code",
      "source": [
        "#Variables in Python\n",
        "x = 7\n",
        "y = \"Hello\"\n",
        "print(x)\n",
        "print(y)\n"
      ],
      "metadata": {
        "colab": {
          "base_uri": "https://localhost:8080/"
        },
        "id": "T6H62S6CCDfD",
        "outputId": "b06c688a-4ef4-414d-ef84-fd45f24a84ce"
      },
      "execution_count": 49,
      "outputs": [
        {
          "output_type": "stream",
          "name": "stdout",
          "text": [
            "7\n",
            "Hello\n"
          ]
        }
      ]
    },
    {
      "cell_type": "markdown",
      "source": [
        "### Python Comments"
      ],
      "metadata": {
        "id": "HCs59ZzreN6s"
      }
    },
    {
      "cell_type": "code",
      "source": [
        "#comments in python\n",
        "#It is a comment. \n",
        "\"\"\"\n",
        "This is a comment\n",
        "written in\n",
        "more than just one line\n",
        "\"\"\"\n",
        "\n"
      ],
      "metadata": {
        "colab": {
          "base_uri": "https://localhost:8080/",
          "height": 36
        },
        "id": "1yUWaJVHCTk6",
        "outputId": "30644b63-de5e-4adc-ea48-c6428287794e"
      },
      "execution_count": 50,
      "outputs": [
        {
          "output_type": "execute_result",
          "data": {
            "text/plain": [
              "'\\nThis is a comment\\nwritten in\\nmore than just one line\\n'"
            ],
            "application/vnd.google.colaboratory.intrinsic+json": {
              "type": "string"
            }
          },
          "metadata": {},
          "execution_count": 50
        }
      ]
    },
    {
      "cell_type": "markdown",
      "source": [
        "### Creating python variables"
      ],
      "metadata": {
        "id": "aksY412ZeV3E"
      }
    },
    {
      "cell_type": "code",
      "source": [
        "#Creating variables\n",
        "x=3\n",
        "y=\"Johny\"\n",
        "\n",
        "print(x)\n",
        "print(y)\n"
      ],
      "metadata": {
        "colab": {
          "base_uri": "https://localhost:8080/"
        },
        "id": "Ozlit-mxCbKo",
        "outputId": "01013c39-410b-41a1-f9ab-7d3b4a8c29c5"
      },
      "execution_count": 51,
      "outputs": [
        {
          "output_type": "stream",
          "name": "stdout",
          "text": [
            "3\n",
            "Johny\n"
          ]
        }
      ]
    },
    {
      "cell_type": "code",
      "source": [
        "x = 321       # x is of type int\n",
        "x = \"Jitt\" # x is now of type str\n",
        "print(x)\n"
      ],
      "metadata": {
        "colab": {
          "base_uri": "https://localhost:8080/"
        },
        "id": "AKfzQNNJCjKT",
        "outputId": "393ec6fd-99ac-406d-8113-edb4c6eb72e4"
      },
      "execution_count": 52,
      "outputs": [
        {
          "output_type": "stream",
          "name": "stdout",
          "text": [
            "Jitt\n"
          ]
        }
      ]
    },
    {
      "cell_type": "markdown",
      "source": [
        "### Python Casting"
      ],
      "metadata": {
        "id": "U58KW7jDekiL"
      }
    },
    {
      "cell_type": "code",
      "source": [
        "#Casting\n",
        "\n",
        "x = str(12)    # x will be '12'\n",
        "y = int(12)    # y will be 12\n",
        "z = float(12)  # z will be 12.0\n",
        "\n",
        "print(x)\n",
        "print(y)\n",
        "print(z)\n"
      ],
      "metadata": {
        "colab": {
          "base_uri": "https://localhost:8080/"
        },
        "id": "bUq2hePBClyA",
        "outputId": "ea29a0a5-0fcc-40a3-8025-232394046aa4"
      },
      "execution_count": 53,
      "outputs": [
        {
          "output_type": "stream",
          "name": "stdout",
          "text": [
            "12\n",
            "12\n",
            "12.0\n"
          ]
        }
      ]
    },
    {
      "cell_type": "markdown",
      "source": [
        "### Getting data type"
      ],
      "metadata": {
        "id": "lITSW-Uve3uZ"
      }
    },
    {
      "cell_type": "code",
      "source": [
        "#get the type\n",
        "x = 3\n",
        "y = \"Yash\"\n",
        "print(type(x))\n",
        "print(type(y))\n"
      ],
      "metadata": {
        "colab": {
          "base_uri": "https://localhost:8080/"
        },
        "id": "LzL1RMM-Cs2z",
        "outputId": "1b25dd0f-bea7-4cbd-c43b-2afb6c8620e4"
      },
      "execution_count": 54,
      "outputs": [
        {
          "output_type": "stream",
          "name": "stdout",
          "text": [
            "<class 'int'>\n",
            "<class 'str'>\n"
          ]
        }
      ]
    },
    {
      "cell_type": "markdown",
      "source": [
        "### We can use single or double quotes"
      ],
      "metadata": {
        "id": "HfSJi4lPfJb2"
      }
    },
    {
      "cell_type": "code",
      "source": [
        "#Single or Double Quotes?\n",
        "\n",
        "x = \"Johny\"\n",
        "print(x)\n",
        "# is the same as\n",
        "x = 'Johny'\n",
        "\n",
        "print(x)\n"
      ],
      "metadata": {
        "colab": {
          "base_uri": "https://localhost:8080/"
        },
        "id": "n4Y9ia8XCx5u",
        "outputId": "157fb3a2-cc7f-4c0f-d7bc-e50f1248a460"
      },
      "execution_count": 55,
      "outputs": [
        {
          "output_type": "stream",
          "name": "stdout",
          "text": [
            "Johny\n",
            "Johny\n"
          ]
        }
      ]
    },
    {
      "cell_type": "markdown",
      "source": [
        "### Case sensitive"
      ],
      "metadata": {
        "id": "tsn2t1epfW1M"
      }
    },
    {
      "cell_type": "code",
      "source": [
        "#Case-Sensitive\n",
        "\n",
        "a = 3\n",
        "A = \"Yash\"\n",
        "#A will not overwrite a\n",
        "\n",
        "print(a)\n",
        "print(A)\n"
      ],
      "metadata": {
        "colab": {
          "base_uri": "https://localhost:8080/"
        },
        "id": "z2bVcKgGC2IB",
        "outputId": "45874355-d7fa-4432-bbe0-bd56853ce092"
      },
      "execution_count": 56,
      "outputs": [
        {
          "output_type": "stream",
          "name": "stdout",
          "text": [
            "3\n",
            "Yash\n"
          ]
        }
      ]
    },
    {
      "cell_type": "markdown",
      "source": [
        "### Variable names should be"
      ],
      "metadata": {
        "id": "LHfVmKVGhqsw"
      }
    },
    {
      "cell_type": "code",
      "source": [
        "## **Python - Variable Names**\n",
        "\n",
        "#Legal variable names:\n",
        "\n",
        "myvar = \"John\"\n",
        "my_var = \"John\"\n",
        "_my_var = \"John\"\n",
        "myVar = \"John\"\n",
        "MYVAR = \"John\"\n",
        "myvar2 = \"John\"\n",
        "\n",
        "print(myvar)\n",
        "print(my_var)\n",
        "print(_my_var)"
      ],
      "metadata": {
        "colab": {
          "base_uri": "https://localhost:8080/"
        },
        "id": "eZ2fEvNDDCGm",
        "outputId": "258b0d3d-8cb6-4e56-bee8-9f9889bdf349"
      },
      "execution_count": 57,
      "outputs": [
        {
          "output_type": "stream",
          "name": "stdout",
          "text": [
            "John\n",
            "John\n",
            "John\n"
          ]
        }
      ]
    },
    {
      "cell_type": "code",
      "source": [
        "#Illegal variable names:\n",
        "\"\"\"\n",
        "myvar = \"John\"\n",
        "my-var = \"John\"\n",
        "my var = \"John\"\n",
        "\"\"\""
      ],
      "metadata": {
        "colab": {
          "base_uri": "https://localhost:8080/",
          "height": 36
        },
        "id": "cTAm2VkxDUHm",
        "outputId": "8288486a-8db1-497a-c4f5-9ef38b80ec18"
      },
      "execution_count": 58,
      "outputs": [
        {
          "output_type": "execute_result",
          "data": {
            "text/plain": [
              "'\\nmyvar = \"John\"\\nmy-var = \"John\"\\nmy var = \"John\"\\n'"
            ],
            "application/vnd.google.colaboratory.intrinsic+json": {
              "type": "string"
            }
          },
          "metadata": {},
          "execution_count": 58
        }
      ]
    },
    {
      "cell_type": "markdown",
      "source": [
        "### Many values to multiple variable"
      ],
      "metadata": {
        "id": "AwfNGOoVh4gU"
      }
    },
    {
      "cell_type": "code",
      "source": [
        "#Many Values to Multiple Variables\n",
        "\n",
        "a, b, c = \"accounting\", \"bank\", \"chemistry\"\n",
        "print(a)\n",
        "print(b)\n",
        "print(c)"
      ],
      "metadata": {
        "colab": {
          "base_uri": "https://localhost:8080/"
        },
        "id": "bD7JbI31D4we",
        "outputId": "d99c12a9-2928-4f20-bdd1-1e90f1954521"
      },
      "execution_count": 59,
      "outputs": [
        {
          "output_type": "stream",
          "name": "stdout",
          "text": [
            "accounting\n",
            "bank\n",
            "chemistry\n"
          ]
        }
      ]
    },
    {
      "cell_type": "markdown",
      "source": [
        "### One Value to Multiple Variables"
      ],
      "metadata": {
        "id": "aMrLHfjXiDX4"
      }
    },
    {
      "cell_type": "code",
      "source": [
        "#One Value to Multiple Variables\n",
        "a = b = c = \"Data Analysis\"\n",
        "print(a)\n",
        "print(b)\n",
        "print(c)"
      ],
      "metadata": {
        "colab": {
          "base_uri": "https://localhost:8080/"
        },
        "id": "ueNoCW9gEioq",
        "outputId": "78e8d602-0ccb-4218-a9e7-f17918af2f76"
      },
      "execution_count": 60,
      "outputs": [
        {
          "output_type": "stream",
          "name": "stdout",
          "text": [
            "Data Analysis\n",
            "Data Analysis\n",
            "Data Analysis\n"
          ]
        }
      ]
    },
    {
      "cell_type": "markdown",
      "source": [
        "### Unpack a Collection"
      ],
      "metadata": {
        "id": "uowAXccBiGhq"
      }
    },
    {
      "cell_type": "code",
      "source": [
        "#Unpack a Collection\n",
        "courses = [\"Accounting\", \"Chemistry\", \"Data analysis\"]\n",
        "a, b, c = courses\n",
        "print(a)\n",
        "print(b)\n",
        "print(c)"
      ],
      "metadata": {
        "colab": {
          "base_uri": "https://localhost:8080/"
        },
        "id": "mUpMBstmFGCL",
        "outputId": "08ab9642-292d-4167-9844-81b60e551f96"
      },
      "execution_count": 61,
      "outputs": [
        {
          "output_type": "stream",
          "name": "stdout",
          "text": [
            "Accounting\n",
            "Chemistry\n",
            "Data analysis\n"
          ]
        }
      ]
    },
    {
      "cell_type": "markdown",
      "source": [
        "### Variables output"
      ],
      "metadata": {
        "id": "oEKke4lMiV1U"
      }
    },
    {
      "cell_type": "code",
      "source": [
        "#Output Variables\n",
        "p = \"The course of python is so excellent\"\n",
        "print(p)"
      ],
      "metadata": {
        "colab": {
          "base_uri": "https://localhost:8080/"
        },
        "id": "0O0FRYzPFv2Y",
        "outputId": "813560a3-f226-4383-e4e3-3e630f887080"
      },
      "execution_count": 62,
      "outputs": [
        {
          "output_type": "stream",
          "name": "stdout",
          "text": [
            "The course of python is so excellent\n"
          ]
        }
      ]
    },
    {
      "cell_type": "code",
      "source": [
        "x = \"This course\"\n",
        "y = \"is\"\n",
        "z = \"awesome\"\n",
        "print(x, y, z)"
      ],
      "metadata": {
        "colab": {
          "base_uri": "https://localhost:8080/"
        },
        "id": "xI9HZb0jGO7z",
        "outputId": "1b2021e1-2bd6-4ca2-c2b4-40beead0e590"
      },
      "execution_count": 63,
      "outputs": [
        {
          "output_type": "stream",
          "name": "stdout",
          "text": [
            "This course is awesome\n"
          ]
        }
      ]
    },
    {
      "cell_type": "code",
      "source": [
        "x = \"This course \"\n",
        "y = \"is \"\n",
        "z = \"awesome\"\n",
        "print(x + y + z)"
      ],
      "metadata": {
        "colab": {
          "base_uri": "https://localhost:8080/"
        },
        "id": "4o1VHYgVGfQK",
        "outputId": "b20c8e48-ed13-493a-bb52-64dd68bc36ee"
      },
      "execution_count": 64,
      "outputs": [
        {
          "output_type": "stream",
          "name": "stdout",
          "text": [
            "This course is awesome\n"
          ]
        }
      ]
    },
    {
      "cell_type": "code",
      "source": [
        "x = 7\n",
        "y = 15\n",
        "print(x + y)"
      ],
      "metadata": {
        "colab": {
          "base_uri": "https://localhost:8080/"
        },
        "id": "jRI4w9bzMkQU",
        "outputId": "a9e079ab-00c4-4788-a819-a6195d19add5"
      },
      "execution_count": 65,
      "outputs": [
        {
          "output_type": "stream",
          "name": "stdout",
          "text": [
            "22\n"
          ]
        }
      ]
    },
    {
      "cell_type": "code",
      "source": [
        "x = 5\n",
        "y = \"John\"\n",
        "print(x + y)\n",
        "\n",
        "#this result show as error"
      ],
      "metadata": {
        "id": "UHbS8I5FO4dY"
      },
      "execution_count": null,
      "outputs": []
    },
    {
      "cell_type": "code",
      "source": [
        "x = 5\n",
        "y = \"Paul\"\n",
        "print(x, y)"
      ],
      "metadata": {
        "colab": {
          "base_uri": "https://localhost:8080/"
        },
        "id": "2pORQVzbMqj2",
        "outputId": "8345ff67-ddc0-4d62-ae0f-9e8d8b39f903"
      },
      "execution_count": 67,
      "outputs": [
        {
          "output_type": "stream",
          "name": "stdout",
          "text": [
            "5 Paul\n"
          ]
        }
      ]
    },
    {
      "cell_type": "markdown",
      "source": [
        "### Global Variables"
      ],
      "metadata": {
        "id": "o_bjHtoEinGK"
      }
    },
    {
      "cell_type": "code",
      "source": [
        "#Global Variables\n",
        "x = \"Exciting\"\n",
        "\n",
        "def myfunc():\n",
        "  print(\"Python is \" + x)\n",
        "\n",
        "myfunc()"
      ],
      "metadata": {
        "colab": {
          "base_uri": "https://localhost:8080/"
        },
        "id": "9vL-yAFfPtLe",
        "outputId": "d94d5c91-2f74-42d5-811e-847f0361a26e"
      },
      "execution_count": 73,
      "outputs": [
        {
          "output_type": "stream",
          "name": "stdout",
          "text": [
            "Python is Exciting\n"
          ]
        }
      ]
    },
    {
      "cell_type": "code",
      "source": [
        "x = \"excellent\"\n",
        "\n",
        "def myfunc():\n",
        "  x = \"fantastic\"\n",
        "  print(\"Python is \" + x)\n",
        "\n",
        "myfunc()\n",
        "\n",
        "print(\"Python is \" + x)"
      ],
      "metadata": {
        "colab": {
          "base_uri": "https://localhost:8080/"
        },
        "id": "4xBAzT6qP1WG",
        "outputId": "8a1f0a87-bc89-44fa-f11e-cf5f96d26a07"
      },
      "execution_count": 74,
      "outputs": [
        {
          "output_type": "stream",
          "name": "stdout",
          "text": [
            "Python is fantastic\n",
            "Python is excellent\n"
          ]
        }
      ]
    },
    {
      "cell_type": "code",
      "source": [
        "#The global Keyword\n",
        "def myfunc():\n",
        "  global x\n",
        "  x = \"fantastic\"\n",
        "\n",
        "myfunc()\n",
        "\n",
        "print(\"Python is \" + x)"
      ],
      "metadata": {
        "colab": {
          "base_uri": "https://localhost:8080/"
        },
        "id": "TgmrHgl0QQn9",
        "outputId": "dc01c761-a7b4-4f26-b093-e03b67319f91"
      },
      "execution_count": 75,
      "outputs": [
        {
          "output_type": "stream",
          "name": "stdout",
          "text": [
            "Python is fantastic\n"
          ]
        }
      ]
    },
    {
      "cell_type": "code",
      "source": [
        "x = \"awesome\"\n",
        "\n",
        "def myfunc():\n",
        "  global x\n",
        "  x = \"fantastic\"\n",
        "\n",
        "myfunc()\n",
        "\n",
        "print(\"Python is \" + x)"
      ],
      "metadata": {
        "colab": {
          "base_uri": "https://localhost:8080/"
        },
        "id": "oKyJLu8lQT_F",
        "outputId": "8d5b1660-86c1-4410-9912-aa42bc986dc7"
      },
      "execution_count": 76,
      "outputs": [
        {
          "output_type": "stream",
          "name": "stdout",
          "text": [
            "Python is fantastic\n"
          ]
        }
      ]
    }
  ]
}