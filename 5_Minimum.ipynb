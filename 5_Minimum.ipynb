{
  "nbformat": 4,
  "nbformat_minor": 0,
  "metadata": {
    "colab": {
      "name": "5.Minimum.ipynb",
      "provenance": []
    },
    "kernelspec": {
      "name": "python3",
      "display_name": "Python 3"
    },
    "language_info": {
      "name": "python"
    }
  },
  "cells": [
    {
      "cell_type": "markdown",
      "source": [
        "## **Minimum**"
      ],
      "metadata": {
        "id": "qrpk13cQZYT5"
      }
    },
    {
      "cell_type": "code",
      "source": [
        "#to find the minimum\n",
        "\n",
        "a=input('First number: ')\n"
      ],
      "metadata": {
        "colab": {
          "base_uri": "https://localhost:8080/"
        },
        "id": "IzUiZK81baNl",
        "outputId": "497dd972-c347-4b8c-8d7e-7561d9cffcad"
      },
      "execution_count": 103,
      "outputs": [
        {
          "name": "stdout",
          "output_type": "stream",
          "text": [
            "First number: 8\n"
          ]
        }
      ]
    },
    {
      "cell_type": "code",
      "source": [
        "b=input('Second number: ')\n"
      ],
      "metadata": {
        "colab": {
          "base_uri": "https://localhost:8080/"
        },
        "id": "mPQ9IkC1dssW",
        "outputId": "4f47ff72-3410-4bf5-e99f-a5376dba2285"
      },
      "execution_count": 104,
      "outputs": [
        {
          "name": "stdout",
          "output_type": "stream",
          "text": [
            "Second number: 2\n"
          ]
        }
      ]
    },
    {
      "cell_type": "code",
      "source": [
        "#to find the minimum we given a,b\n",
        "minimum=min(a,b)\n",
        "print(minimum)"
      ],
      "metadata": {
        "colab": {
          "base_uri": "https://localhost:8080/"
        },
        "id": "izJhhq7VduEb",
        "outputId": "0af0806d-ef35-48e7-94df-b13f44325cb9"
      },
      "execution_count": 105,
      "outputs": [
        {
          "output_type": "stream",
          "name": "stdout",
          "text": [
            "2\n"
          ]
        }
      ]
    },
    {
      "cell_type": "markdown",
      "source": [
        "**If statement:**\n",
        "\n",
        "To find which is least"
      ],
      "metadata": {
        "id": "FHPynZPpd9vU"
      }
    },
    {
      "cell_type": "code",
      "source": [
        "a = 8\n",
        "b = 2\n",
        "if b < a:\n",
        "  print(\"b is less than a\")"
      ],
      "metadata": {
        "colab": {
          "base_uri": "https://localhost:8080/"
        },
        "id": "wdSDDT_Rd82_",
        "outputId": "36e15d40-8082-4c55-926f-aa07d518b266"
      },
      "execution_count": 106,
      "outputs": [
        {
          "output_type": "stream",
          "name": "stdout",
          "text": [
            "b is less than a\n"
          ]
        }
      ]
    },
    {
      "cell_type": "code",
      "source": [
        "if b < a:\n",
        "  print(\"b is less than a\")\n",
        "elif a == b:\n",
        "  print(\"a and b are equal\")"
      ],
      "metadata": {
        "colab": {
          "base_uri": "https://localhost:8080/"
        },
        "id": "ADJAZkyleXLI",
        "outputId": "19e028b5-fff7-431a-ad1b-96e2f810a0b1"
      },
      "execution_count": 107,
      "outputs": [
        {
          "output_type": "stream",
          "name": "stdout",
          "text": [
            "b is less than a\n"
          ]
        }
      ]
    },
    {
      "cell_type": "code",
      "source": [
        "if b < a:\n",
        "  print(\"b is less than a\")\n",
        "elif a == b:\n",
        "  print(\"a and b are equal\")\n",
        "else:\n",
        "  print(\"a is greater than b\")"
      ],
      "metadata": {
        "colab": {
          "base_uri": "https://localhost:8080/"
        },
        "id": "KhxAQVI_eaCF",
        "outputId": "50c3c8e5-c994-4341-fa69-74a485160e9c"
      },
      "execution_count": 108,
      "outputs": [
        {
          "output_type": "stream",
          "name": "stdout",
          "text": [
            "b is less than a\n"
          ]
        }
      ]
    }
  ]
}