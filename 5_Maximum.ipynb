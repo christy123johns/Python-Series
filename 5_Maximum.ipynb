{
  "nbformat": 4,
  "nbformat_minor": 0,
  "metadata": {
    "colab": {
      "name": "5.maximum.ipynb",
      "provenance": []
    },
    "kernelspec": {
      "name": "python3",
      "display_name": "Python 3"
    },
    "language_info": {
      "name": "python"
    }
  },
  "cells": [
    {
      "cell_type": "markdown",
      "source": [
        "## **Maximum**"
      ],
      "metadata": {
        "id": "qrpk13cQZYT5"
      }
    },
    {
      "cell_type": "code",
      "source": [
        "#to find the maximum\n",
        "\n",
        "a=input('First number: ')\n"
      ],
      "metadata": {
        "colab": {
          "base_uri": "https://localhost:8080/"
        },
        "id": "IzUiZK81baNl",
        "outputId": "41cf7927-317a-421b-9292-4fe5cd7f06e1"
      },
      "execution_count": 85,
      "outputs": [
        {
          "name": "stdout",
          "output_type": "stream",
          "text": [
            "First number: 8\n"
          ]
        }
      ]
    },
    {
      "cell_type": "code",
      "source": [
        "b=input('Second number: ')\n"
      ],
      "metadata": {
        "colab": {
          "base_uri": "https://localhost:8080/"
        },
        "id": "mPQ9IkC1dssW",
        "outputId": "c13c1b9c-80d4-48bd-ae16-3433f7620384"
      },
      "execution_count": 86,
      "outputs": [
        {
          "name": "stdout",
          "output_type": "stream",
          "text": [
            "Second number: 2\n"
          ]
        }
      ]
    },
    {
      "cell_type": "code",
      "source": [
        "#to find the maximum we given a,b\n",
        "maximum=max(a,b)\n",
        "print(maximum)"
      ],
      "metadata": {
        "colab": {
          "base_uri": "https://localhost:8080/"
        },
        "id": "izJhhq7VduEb",
        "outputId": "0b046613-718c-4036-ccc3-4c2864c03fe4"
      },
      "execution_count": 87,
      "outputs": [
        {
          "output_type": "stream",
          "name": "stdout",
          "text": [
            "8\n"
          ]
        }
      ]
    },
    {
      "cell_type": "markdown",
      "source": [
        "**If statement:**\n",
        "\n",
        "To find which is greater"
      ],
      "metadata": {
        "id": "FHPynZPpd9vU"
      }
    },
    {
      "cell_type": "code",
      "source": [
        "a = 8\n",
        "b = 2\n",
        "if b > a:\n",
        "  print(\"b is greater than a\")"
      ],
      "metadata": {
        "id": "wdSDDT_Rd82_"
      },
      "execution_count": 88,
      "outputs": []
    },
    {
      "cell_type": "code",
      "source": [
        "if b > a:\n",
        "  print(\"b is greater than a\")\n",
        "elif a == b:\n",
        "  print(\"a and b are equal\")"
      ],
      "metadata": {
        "id": "ADJAZkyleXLI"
      },
      "execution_count": 89,
      "outputs": []
    },
    {
      "cell_type": "code",
      "source": [
        "if b > a:\n",
        "  print(\"b is greater than a\")\n",
        "elif a == b:\n",
        "  print(\"a and b are equal\")\n",
        "else:\n",
        "  print(\"a is greater than b\")"
      ],
      "metadata": {
        "colab": {
          "base_uri": "https://localhost:8080/"
        },
        "id": "KhxAQVI_eaCF",
        "outputId": "e0743a4f-2ca5-437a-fdd5-dde10dc8d640"
      },
      "execution_count": 90,
      "outputs": [
        {
          "output_type": "stream",
          "name": "stdout",
          "text": [
            "a is greater than b\n"
          ]
        }
      ]
    }
  ]
}