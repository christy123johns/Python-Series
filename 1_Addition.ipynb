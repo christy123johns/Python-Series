{
  "nbformat": 4,
  "nbformat_minor": 0,
  "metadata": {
    "colab": {
      "name": "1.Addition.ipynb",
      "provenance": []
    },
    "kernelspec": {
      "name": "python3",
      "display_name": "Python 3"
    },
    "language_info": {
      "name": "python"
    }
  },
  "cells": [
    {
      "cell_type": "markdown",
      "source": [
        "### To Add 2 numbers \n",
        "1st assign data into string\\\n",
        "input a number"
      ],
      "metadata": {
        "id": "qrpk13cQZYT5"
      }
    },
    {
      "cell_type": "code",
      "source": [
        "a=2\n",
        "b=10\n",
        "c=a+b\n",
        "c"
      ],
      "metadata": {
        "colab": {
          "base_uri": "https://localhost:8080/"
        },
        "id": "IzUiZK81baNl",
        "outputId": "629ca3dd-0956-4cf1-ffae-d69e3ee35ed2"
      },
      "execution_count": 33,
      "outputs": [
        {
          "output_type": "execute_result",
          "data": {
            "text/plain": [
              "12"
            ]
          },
          "metadata": {},
          "execution_count": 33
        }
      ]
    },
    {
      "cell_type": "markdown",
      "source": [
        "## or"
      ],
      "metadata": {
        "id": "y8Gj_tTNbhyt"
      }
    },
    {
      "cell_type": "code",
      "source": [
        "num1=input('first number:')\n"
      ],
      "metadata": {
        "colab": {
          "base_uri": "https://localhost:8080/"
        },
        "id": "jOAyb4x8ZzWF",
        "outputId": "23207566-fce5-4fb0-881c-63cc9049494d"
      },
      "execution_count": 34,
      "outputs": [
        {
          "name": "stdout",
          "output_type": "stream",
          "text": [
            "first number:2\n"
          ]
        }
      ]
    },
    {
      "cell_type": "code",
      "source": [
        "#back slash is given to come to next line\n",
        "num2=input('\\nSecond number:')"
      ],
      "metadata": {
        "colab": {
          "base_uri": "https://localhost:8080/"
        },
        "id": "EF1foG_YZ6HA",
        "outputId": "b20752f0-a395-439c-c8aa-244c5aebbd9a"
      },
      "execution_count": 35,
      "outputs": [
        {
          "name": "stdout",
          "output_type": "stream",
          "text": [
            "\n",
            "Second number:10\n"
          ]
        }
      ]
    },
    {
      "cell_type": "code",
      "source": [
        "#string converting to float\n",
        "sum=float(num1)+float(num2)\n",
        "sum"
      ],
      "metadata": {
        "colab": {
          "base_uri": "https://localhost:8080/"
        },
        "id": "h6OF2SGvaCj1",
        "outputId": "69aadf62-ef0e-4549-90ff-293a6123694d"
      },
      "execution_count": 36,
      "outputs": [
        {
          "output_type": "execute_result",
          "data": {
            "text/plain": [
              "12.0"
            ]
          },
          "metadata": {},
          "execution_count": 36
        }
      ]
    },
    {
      "cell_type": "code",
      "source": [
        "#to convert float into string format we give .format\n",
        "#here inside the curly brackets we give the index numbers of each code\n",
        "\n",
        "print('the Sum of {0} and {1} is {2}' .format(num1,num2,sum))"
      ],
      "metadata": {
        "colab": {
          "base_uri": "https://localhost:8080/"
        },
        "id": "JrxdLtvBaQz2",
        "outputId": "478c2b60-0581-4776-d37c-8651583bd850"
      },
      "execution_count": 37,
      "outputs": [
        {
          "output_type": "stream",
          "name": "stdout",
          "text": [
            "the Sum of 2 and 10 is 12.0\n"
          ]
        }
      ]
    }
  ]
}