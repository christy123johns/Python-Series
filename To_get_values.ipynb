{
  "nbformat": 4,
  "nbformat_minor": 0,
  "metadata": {
    "colab": {
      "name": "To get values.ipynb",
      "provenance": []
    },
    "kernelspec": {
      "name": "python3",
      "display_name": "Python 3"
    },
    "language_info": {
      "name": "python"
    }
  },
  "cells": [
    {
      "cell_type": "markdown",
      "source": [
        "## To Get values"
      ],
      "metadata": {
        "id": "II-zDTP4Tkeb"
      }
    },
    {
      "cell_type": "markdown",
      "source": [
        "To get values between 0 to 100, the values should be multiples of 2"
      ],
      "metadata": {
        "id": "ROdp7gvtTq-c"
      }
    },
    {
      "cell_type": "code",
      "source": [
        "n=[i for i in range(100) if i%2==0]\n",
        "n"
      ],
      "metadata": {
        "id": "wWxsj7kRTi6W",
        "colab": {
          "base_uri": "https://localhost:8080/"
        },
        "outputId": "cbd1835e-1733-452d-d2cb-69df65e22e14"
      },
      "execution_count": 1,
      "outputs": [
        {
          "output_type": "execute_result",
          "data": {
            "text/plain": [
              "[0,\n",
              " 2,\n",
              " 4,\n",
              " 6,\n",
              " 8,\n",
              " 10,\n",
              " 12,\n",
              " 14,\n",
              " 16,\n",
              " 18,\n",
              " 20,\n",
              " 22,\n",
              " 24,\n",
              " 26,\n",
              " 28,\n",
              " 30,\n",
              " 32,\n",
              " 34,\n",
              " 36,\n",
              " 38,\n",
              " 40,\n",
              " 42,\n",
              " 44,\n",
              " 46,\n",
              " 48,\n",
              " 50,\n",
              " 52,\n",
              " 54,\n",
              " 56,\n",
              " 58,\n",
              " 60,\n",
              " 62,\n",
              " 64,\n",
              " 66,\n",
              " 68,\n",
              " 70,\n",
              " 72,\n",
              " 74,\n",
              " 76,\n",
              " 78,\n",
              " 80,\n",
              " 82,\n",
              " 84,\n",
              " 86,\n",
              " 88,\n",
              " 90,\n",
              " 92,\n",
              " 94,\n",
              " 96,\n",
              " 98]"
            ]
          },
          "metadata": {},
          "execution_count": 1
        }
      ]
    },
    {
      "cell_type": "code",
      "source": [
        "#To get values between 0 to 10, the values should be multiples of 2\n",
        "m=[i for i in range(10) if i%2==0]\n",
        "m"
      ],
      "metadata": {
        "id": "f16hv3GUqIKM",
        "colab": {
          "base_uri": "https://localhost:8080/"
        },
        "outputId": "5089800c-fe77-4e6b-e7f4-a745abd2ee2f"
      },
      "execution_count": 2,
      "outputs": [
        {
          "output_type": "execute_result",
          "data": {
            "text/plain": [
              "[0, 2, 4, 6, 8]"
            ]
          },
          "metadata": {},
          "execution_count": 2
        }
      ]
    },
    {
      "cell_type": "code",
      "source": [
        "#To get values between 0 to 30, the values should be multiples of 3\n",
        "p=[i for i in range(30) if i%3==0]\n",
        "p"
      ],
      "metadata": {
        "id": "6hKIPRKrqhyh",
        "colab": {
          "base_uri": "https://localhost:8080/"
        },
        "outputId": "bda0d0c5-36e0-4706-d406-383734ba71b4"
      },
      "execution_count": 3,
      "outputs": [
        {
          "output_type": "execute_result",
          "data": {
            "text/plain": [
              "[0, 3, 6, 9, 12, 15, 18, 21, 24, 27]"
            ]
          },
          "metadata": {},
          "execution_count": 3
        }
      ]
    },
    {
      "cell_type": "markdown",
      "source": [
        "**Create a list which contain numbers divisible by 3 in range(1-20)**"
      ],
      "metadata": {
        "id": "zqbMS_-UZe6j"
      }
    },
    {
      "cell_type": "code",
      "source": [
        "l=[i for i in range(1,20) if i%3==0]\n",
        "l"
      ],
      "metadata": {
        "id": "Dw7Uex9rZe6m",
        "colab": {
          "base_uri": "https://localhost:8080/"
        },
        "outputId": "ab3e9722-777c-4bfa-e29a-fa0ba367961e"
      },
      "execution_count": 4,
      "outputs": [
        {
          "output_type": "execute_result",
          "data": {
            "text/plain": [
              "[3, 6, 9, 12, 15, 18]"
            ]
          },
          "metadata": {},
          "execution_count": 4
        }
      ]
    },
    {
      "cell_type": "code",
      "source": [
        "#to reverse a value\n",
        "a=\"Christy\"\n",
        "for i in a[::-1]:\n",
        "  print(i)"
      ],
      "metadata": {
        "id": "Sty5at4Ermpi",
        "colab": {
          "base_uri": "https://localhost:8080/"
        },
        "outputId": "09119cc9-3994-4e35-dfcc-4c0ab404a988"
      },
      "execution_count": 5,
      "outputs": [
        {
          "output_type": "stream",
          "name": "stdout",
          "text": [
            "y\n",
            "t\n",
            "s\n",
            "i\n",
            "r\n",
            "h\n",
            "C\n"
          ]
        }
      ]
    },
    {
      "cell_type": "markdown",
      "source": [
        "## **Input a value**"
      ],
      "metadata": {
        "id": "krepqYmfUsuJ"
      }
    },
    {
      "cell_type": "code",
      "source": [
        "abc=input()"
      ],
      "metadata": {
        "id": "dg-QsOC6qOf4",
        "colab": {
          "base_uri": "https://localhost:8080/"
        },
        "outputId": "0ce2632d-ae53-4b68-baa7-11bd3a65ca0b"
      },
      "execution_count": 6,
      "outputs": [
        {
          "name": "stdout",
          "output_type": "stream",
          "text": [
            "Christy\n"
          ]
        }
      ]
    },
    {
      "cell_type": "code",
      "source": [
        "My_word=input()"
      ],
      "metadata": {
        "id": "NGdc--Ody4n3",
        "colab": {
          "base_uri": "https://localhost:8080/"
        },
        "outputId": "f8d2d73c-f7a5-4db5-8a5b-7ff955637c40"
      },
      "execution_count": 7,
      "outputs": [
        {
          "name": "stdout",
          "output_type": "stream",
          "text": [
            "Christy Johns\n"
          ]
        }
      ]
    },
    {
      "cell_type": "code",
      "source": [
        "My_hobby=input()"
      ],
      "metadata": {
        "id": "WfVOS6D2zEKg",
        "colab": {
          "base_uri": "https://localhost:8080/"
        },
        "outputId": "04d9a879-7bb2-432e-b8a5-81f0fc59fa2a"
      },
      "execution_count": 8,
      "outputs": [
        {
          "name": "stdout",
          "output_type": "stream",
          "text": [
            "Coding in Python\n"
          ]
        }
      ]
    },
    {
      "cell_type": "code",
      "source": [
        "My_hobby=input()\n",
        "print(type (My_hobby))"
      ],
      "metadata": {
        "id": "EPKgf4gUxth4",
        "colab": {
          "base_uri": "https://localhost:8080/"
        },
        "outputId": "83b6f274-6e1c-4d63-dc7e-22d00cb6c38c"
      },
      "execution_count": 9,
      "outputs": [
        {
          "output_type": "stream",
          "name": "stdout",
          "text": [
            "Coding In Python\n",
            "<class 'str'>\n"
          ]
        }
      ]
    },
    {
      "cell_type": "code",
      "source": [
        "a = input()\n",
        "print(type(a))\n"
      ],
      "metadata": {
        "id": "T_N72y8f2JkE",
        "colab": {
          "base_uri": "https://localhost:8080/"
        },
        "outputId": "02b630ab-ed70-4a7c-9fd1-230b323e0661"
      },
      "execution_count": 10,
      "outputs": [
        {
          "output_type": "stream",
          "name": "stdout",
          "text": [
            "Coding\n",
            "<class 'str'>\n"
          ]
        }
      ]
    },
    {
      "cell_type": "code",
      "source": [
        "#this code will be a error\n",
        "inn = input() \n",
        "print(inn+1)\n"
      ],
      "metadata": {
        "id": "wMqFO0j_2v7Y",
        "colab": {
          "base_uri": "https://localhost:8080/",
          "height": 218
        },
        "outputId": "30f44c78-f0ea-4b0b-9217-d607e0f37646"
      },
      "execution_count": 11,
      "outputs": [
        {
          "name": "stdout",
          "output_type": "stream",
          "text": [
            "Coding\n"
          ]
        },
        {
          "output_type": "error",
          "ename": "TypeError",
          "evalue": "ignored",
          "traceback": [
            "\u001b[0;31m---------------------------------------------------------------------------\u001b[0m",
            "\u001b[0;31mTypeError\u001b[0m                                 Traceback (most recent call last)",
            "\u001b[0;32m<ipython-input-11-d9f2c9b09582>\u001b[0m in \u001b[0;36m<module>\u001b[0;34m()\u001b[0m\n\u001b[1;32m      1\u001b[0m \u001b[0;31m#this code will be a error\u001b[0m\u001b[0;34m\u001b[0m\u001b[0;34m\u001b[0m\u001b[0;34m\u001b[0m\u001b[0m\n\u001b[1;32m      2\u001b[0m \u001b[0minn\u001b[0m \u001b[0;34m=\u001b[0m \u001b[0minput\u001b[0m\u001b[0;34m(\u001b[0m\u001b[0;34m)\u001b[0m\u001b[0;34m\u001b[0m\u001b[0;34m\u001b[0m\u001b[0m\n\u001b[0;32m----> 3\u001b[0;31m \u001b[0mprint\u001b[0m\u001b[0;34m(\u001b[0m\u001b[0minn\u001b[0m\u001b[0;34m+\u001b[0m\u001b[0;36m1\u001b[0m\u001b[0;34m)\u001b[0m\u001b[0;34m\u001b[0m\u001b[0;34m\u001b[0m\u001b[0m\n\u001b[0m",
            "\u001b[0;31mTypeError\u001b[0m: can only concatenate str (not \"int\") to str"
          ]
        }
      ]
    },
    {
      "cell_type": "code",
      "source": [
        "#this code will be a error\n",
        "inn = input()\n",
        "print(str(inn)+1)"
      ],
      "metadata": {
        "id": "FU4ZzhPO3f71",
        "colab": {
          "base_uri": "https://localhost:8080/",
          "height": 218
        },
        "outputId": "f8c252d0-d07e-407a-bf92-ee933c3e3849"
      },
      "execution_count": 12,
      "outputs": [
        {
          "name": "stdout",
          "output_type": "stream",
          "text": [
            "Coding\n"
          ]
        },
        {
          "output_type": "error",
          "ename": "TypeError",
          "evalue": "ignored",
          "traceback": [
            "\u001b[0;31m---------------------------------------------------------------------------\u001b[0m",
            "\u001b[0;31mTypeError\u001b[0m                                 Traceback (most recent call last)",
            "\u001b[0;32m<ipython-input-12-3f140a9d7d08>\u001b[0m in \u001b[0;36m<module>\u001b[0;34m()\u001b[0m\n\u001b[1;32m      1\u001b[0m \u001b[0;31m#this code will be a error\u001b[0m\u001b[0;34m\u001b[0m\u001b[0;34m\u001b[0m\u001b[0;34m\u001b[0m\u001b[0m\n\u001b[1;32m      2\u001b[0m \u001b[0minn\u001b[0m \u001b[0;34m=\u001b[0m \u001b[0minput\u001b[0m\u001b[0;34m(\u001b[0m\u001b[0;34m)\u001b[0m\u001b[0;34m\u001b[0m\u001b[0;34m\u001b[0m\u001b[0m\n\u001b[0;32m----> 3\u001b[0;31m \u001b[0mprint\u001b[0m\u001b[0;34m(\u001b[0m\u001b[0mstr\u001b[0m\u001b[0;34m(\u001b[0m\u001b[0minn\u001b[0m\u001b[0;34m)\u001b[0m\u001b[0;34m+\u001b[0m\u001b[0;36m1\u001b[0m\u001b[0;34m)\u001b[0m\u001b[0;34m\u001b[0m\u001b[0;34m\u001b[0m\u001b[0m\n\u001b[0m",
            "\u001b[0;31mTypeError\u001b[0m: can only concatenate str (not \"int\") to str"
          ]
        }
      ]
    },
    {
      "cell_type": "code",
      "source": [
        "#correct code to express above errors\n",
        "inn = input()\n",
        "print(inn +str(1))"
      ],
      "metadata": {
        "id": "eqghQnzS3tt4",
        "colab": {
          "base_uri": "https://localhost:8080/"
        },
        "outputId": "adbd7cb1-8530-4b2b-ad73-e63c1aa8938b"
      },
      "execution_count": 13,
      "outputs": [
        {
          "output_type": "stream",
          "name": "stdout",
          "text": [
            "Coding\n",
            "Coding1\n"
          ]
        }
      ]
    },
    {
      "cell_type": "code",
      "source": [
        "inn = input()      # suppose we are taking input as number\n",
        "\n",
        "# print(str(inn) + 1)   # do you think this work? Yes or NO\n",
        "\n",
        "print(inn + str(1))   # do you think this work? Yes or NO --- this is correct we have converted the numeric value into str\n"
      ],
      "metadata": {
        "id": "amB5mLdb4BoP",
        "colab": {
          "base_uri": "https://localhost:8080/"
        },
        "outputId": "86604dc0-7808-40b4-8981-8b70cb9bad01"
      },
      "execution_count": 14,
      "outputs": [
        {
          "output_type": "stream",
          "name": "stdout",
          "text": [
            "Coding\n",
            "Coding1\n"
          ]
        }
      ]
    },
    {
      "cell_type": "code",
      "source": [
        "inn=input()\n",
        "print(inn+' '+str(1)) "
      ],
      "metadata": {
        "id": "TIzrUi5n4Eiw",
        "colab": {
          "base_uri": "https://localhost:8080/"
        },
        "outputId": "e44af57f-55f9-4006-d1d3-159fc21735b6"
      },
      "execution_count": 15,
      "outputs": [
        {
          "output_type": "stream",
          "name": "stdout",
          "text": [
            "Coding\n",
            "Coding 1\n"
          ]
        }
      ]
    },
    {
      "cell_type": "markdown",
      "source": [
        "## **What is output of**\n",
        "\tfor i in range(1,10,3):\n",
        "\t\tprint(i)"
      ],
      "metadata": {
        "id": "3zbp2EMj7B4o"
      }
    },
    {
      "cell_type": "code",
      "source": [
        "for i in range(1,10,3):\n",
        "\t\tprint(i)"
      ],
      "metadata": {
        "id": "fjQhMQqe7EFz",
        "colab": {
          "base_uri": "https://localhost:8080/"
        },
        "outputId": "deacbcae-eb6f-4315-de73-39cd09b8729e"
      },
      "execution_count": 16,
      "outputs": [
        {
          "output_type": "stream",
          "name": "stdout",
          "text": [
            "1\n",
            "4\n",
            "7\n"
          ]
        }
      ]
    },
    {
      "cell_type": "markdown",
      "source": [
        "**Suppose, we want to separate the letters of the word \"human\" and add the letters as items of a list.**"
      ],
      "metadata": {
        "id": "fvq1hUUsV6Jo"
      }
    },
    {
      "cell_type": "code",
      "source": [
        "a=\"human\"\n",
        "b=list(a)\n",
        "b"
      ],
      "metadata": {
        "id": "bSzdUNtKfiSB",
        "colab": {
          "base_uri": "https://localhost:8080/"
        },
        "outputId": "12210835-35ad-48d1-c443-fc7f7f34dacf"
      },
      "execution_count": 17,
      "outputs": [
        {
          "output_type": "execute_result",
          "data": {
            "text/plain": [
              "['h', 'u', 'm', 'a', 'n']"
            ]
          },
          "metadata": {},
          "execution_count": 17
        }
      ]
    },
    {
      "cell_type": "code",
      "source": [
        "c=[i for i in a]\n",
        "c"
      ],
      "metadata": {
        "id": "qjkpfZJd1Pk-",
        "colab": {
          "base_uri": "https://localhost:8080/"
        },
        "outputId": "357dd441-a7b7-48dc-e2e5-9f106e0f7629"
      },
      "execution_count": 18,
      "outputs": [
        {
          "output_type": "execute_result",
          "data": {
            "text/plain": [
              "['h', 'u', 'm', 'a', 'n']"
            ]
          },
          "metadata": {},
          "execution_count": 18
        }
      ]
    },
    {
      "cell_type": "code",
      "source": [
        "#split this \n",
        "\n",
        "s=\"newmanof india\" \n",
        "list(s)\n"
      ],
      "metadata": {
        "id": "Q_viiCdcZzEx",
        "colab": {
          "base_uri": "https://localhost:8080/"
        },
        "outputId": "da2db468-a959-4caf-fd87-87bb38f92e42"
      },
      "execution_count": 19,
      "outputs": [
        {
          "output_type": "execute_result",
          "data": {
            "text/plain": [
              "['n', 'e', 'w', 'm', 'a', 'n', 'o', 'f', ' ', 'i', 'n', 'd', 'i', 'a']"
            ]
          },
          "metadata": {},
          "execution_count": 19
        }
      ]
    },
    {
      "cell_type": "markdown",
      "source": [
        "**Store addition of elements of two list in one**\\\n",
        "a = [1, 2, 3]\\\n",
        "b = [7, 8, 9]"
      ],
      "metadata": {
        "id": "LTcbaQNvWXwt"
      }
    },
    {
      "cell_type": "code",
      "source": [
        "a=[1,2,3]\n",
        "b=[7,8,9]\n",
        "c=[]\n",
        "c=[i+j for i,j in zip(a,b)]\n",
        "c"
      ],
      "metadata": {
        "id": "P_OTn6573vrh",
        "colab": {
          "base_uri": "https://localhost:8080/"
        },
        "outputId": "b4911fec-3776-4c8b-de10-ab910e1a308b"
      },
      "execution_count": 21,
      "outputs": [
        {
          "output_type": "execute_result",
          "data": {
            "text/plain": [
              "[8, 10, 12]"
            ]
          },
          "metadata": {},
          "execution_count": 21
        }
      ]
    },
    {
      "cell_type": "code",
      "source": [
        "list(map(lambda x,y:x+y,a,b))"
      ],
      "metadata": {
        "id": "-s7u15kkC6hv",
        "colab": {
          "base_uri": "https://localhost:8080/"
        },
        "outputId": "285affa3-8618-4b24-9759-27a8220e4c44"
      },
      "execution_count": 22,
      "outputs": [
        {
          "output_type": "execute_result",
          "data": {
            "text/plain": [
              "[8, 10, 12]"
            ]
          },
          "metadata": {},
          "execution_count": 22
        }
      ]
    },
    {
      "cell_type": "code",
      "source": [
        "x = [2, 2, 3]\n",
        "y = [7, 10, 9]\n",
        "l=[a+b for a,b in zip(x,y)]\n",
        "l"
      ],
      "metadata": {
        "id": "s0gwzNjmaQAO",
        "colab": {
          "base_uri": "https://localhost:8080/"
        },
        "outputId": "5df756aa-11eb-44d6-a122-16fb2cccb688"
      },
      "execution_count": 23,
      "outputs": [
        {
          "output_type": "execute_result",
          "data": {
            "text/plain": [
              "[9, 12, 12]"
            ]
          },
          "metadata": {},
          "execution_count": 23
        }
      ]
    },
    {
      "cell_type": "markdown",
      "source": [
        "**How can we get square of list : my_list = [2, 3, 5, 7, 11]**"
      ],
      "metadata": {
        "id": "vGHnOaw0aF63"
      }
    },
    {
      "cell_type": "code",
      "source": [
        "lst=[2,3,5,7,11]\n",
        "c=[x*x for x in lst]\n",
        "c"
      ],
      "metadata": {
        "id": "n9ncDq7kaF64",
        "colab": {
          "base_uri": "https://localhost:8080/"
        },
        "outputId": "ffae4f2c-de88-4920-caf7-c6c3f0e90228"
      },
      "execution_count": 24,
      "outputs": [
        {
          "output_type": "execute_result",
          "data": {
            "text/plain": [
              "[4, 9, 25, 49, 121]"
            ]
          },
          "metadata": {},
          "execution_count": 24
        }
      ]
    },
    {
      "cell_type": "code",
      "source": [
        "list(map(lambda x:x*x,lst))"
      ],
      "metadata": {
        "id": "OXaZOGCCaF65",
        "colab": {
          "base_uri": "https://localhost:8080/"
        },
        "outputId": "02c0be63-c0c6-4ae2-82ad-bb18b2b294fe"
      },
      "execution_count": 25,
      "outputs": [
        {
          "output_type": "execute_result",
          "data": {
            "text/plain": [
              "[4, 9, 25, 49, 121]"
            ]
          },
          "metadata": {},
          "execution_count": 25
        }
      ]
    },
    {
      "cell_type": "markdown",
      "source": [
        "**Dictionary**"
      ],
      "metadata": {
        "id": "iRhfyZ8Gu2u7"
      }
    },
    {
      "cell_type": "code",
      "source": [
        "#to Take value from a dictionary\n",
        "students = {1: {'name': 'Steve', 'age': 25, 'marks': 60}, \n",
        " 2: {'name': 'Anil', 'age': 23, 'marks': 75}, \n",
        " 3: {'name': 'Asha', 'age': 20, 'marks': 70}}\n",
        "\n",
        "students[2]['name']\n"
      ],
      "metadata": {
        "colab": {
          "base_uri": "https://localhost:8080/",
          "height": 36
        },
        "outputId": "9edbe480-7e3a-4347-fb0f-387cedcdbe19",
        "id": "H6U-aGD_u2vL"
      },
      "execution_count": 26,
      "outputs": [
        {
          "output_type": "execute_result",
          "data": {
            "text/plain": [
              "'Anil'"
            ],
            "application/vnd.google.colaboratory.intrinsic+json": {
              "type": "string"
            }
          },
          "metadata": {},
          "execution_count": 26
        }
      ]
    },
    {
      "cell_type": "markdown",
      "source": [
        "capitals = {\"USA\":\"Washington D.C.\", \"France\":\"Paris\", \"India\":\"New Delhi\"}\n",
        "\n",
        "**How can we access Dictionary Using For Loop**\n"
      ],
      "metadata": {
        "id": "EyrzXnrjEVaH"
      }
    },
    {
      "cell_type": "code",
      "source": [
        "capitals = {\"USA\":\"Washington D.C.\", \"France\":\"Paris\", \"India\":\"New Delhi\"}\n",
        "for k in capitals.items():\n",
        "  print(\"key\",k[0])\n",
        "  print(\"value\",k[1])"
      ],
      "metadata": {
        "id": "uQ8okapfFI1K",
        "colab": {
          "base_uri": "https://localhost:8080/"
        },
        "outputId": "b2e883fa-49ea-4e47-a144-b314d51a8f07"
      },
      "execution_count": 27,
      "outputs": [
        {
          "output_type": "stream",
          "name": "stdout",
          "text": [
            "key USA\n",
            "value Washington D.C.\n",
            "key France\n",
            "value Paris\n",
            "key India\n",
            "value New Delhi\n"
          ]
        }
      ]
    },
    {
      "cell_type": "markdown",
      "source": [
        "**how you will extract only keys?**"
      ],
      "metadata": {
        "id": "he2mjCKKEtzD"
      }
    },
    {
      "cell_type": "code",
      "source": [
        "\n",
        "for k in capitals:\n",
        "  print(\"key\",k)\n",
        "  "
      ],
      "metadata": {
        "id": "4HWllQl77Zzl",
        "colab": {
          "base_uri": "https://localhost:8080/"
        },
        "outputId": "021b8843-705e-4729-82a0-0cc361d39485"
      },
      "execution_count": 28,
      "outputs": [
        {
          "output_type": "stream",
          "name": "stdout",
          "text": [
            "key USA\n",
            "key France\n",
            "key India\n"
          ]
        }
      ]
    },
    {
      "cell_type": "code",
      "source": [
        "capitals = {\"USA\":\"Washington D.C.\", \"France\":\"Paris\", \"India\":\"New Delhi\"}\n",
        "capitals.keys()"
      ],
      "metadata": {
        "id": "1IrDzcyRkOuF",
        "colab": {
          "base_uri": "https://localhost:8080/"
        },
        "outputId": "075994a2-ab93-4cc3-90f0-7b2f6e7f22fe"
      },
      "execution_count": 29,
      "outputs": [
        {
          "output_type": "execute_result",
          "data": {
            "text/plain": [
              "dict_keys(['USA', 'France', 'India'])"
            ]
          },
          "metadata": {},
          "execution_count": 29
        }
      ]
    },
    {
      "cell_type": "code",
      "source": [
        "capitals.values()"
      ],
      "metadata": {
        "id": "LzlPZjxbkl5r",
        "colab": {
          "base_uri": "https://localhost:8080/"
        },
        "outputId": "1f124895-0c44-44ec-9827-72092ac44ab5"
      },
      "execution_count": 30,
      "outputs": [
        {
          "output_type": "execute_result",
          "data": {
            "text/plain": [
              "dict_values(['Washington D.C.', 'Paris', 'New Delhi'])"
            ]
          },
          "metadata": {},
          "execution_count": 30
        }
      ]
    },
    {
      "cell_type": "code",
      "source": [
        "dict1={\"Name\": \"John\",               \n",
        "             \"Email\": \"John@gmail.com\",\n",
        "             \"phone number\": \"9876543210\"}\n",
        "dict1.keys()"
      ],
      "metadata": {
        "id": "uj9L8nIMgB37",
        "colab": {
          "base_uri": "https://localhost:8080/"
        },
        "outputId": "272bfdc4-2a8f-4351-a0f1-5dc189952c50"
      },
      "execution_count": 31,
      "outputs": [
        {
          "output_type": "execute_result",
          "data": {
            "text/plain": [
              "dict_keys(['Name', 'Email', 'phone number'])"
            ]
          },
          "metadata": {},
          "execution_count": 31
        }
      ]
    },
    {
      "cell_type": "code",
      "source": [
        "dict1['phone number']"
      ],
      "metadata": {
        "id": "qd0NnXtUhJwM",
        "colab": {
          "base_uri": "https://localhost:8080/",
          "height": 36
        },
        "outputId": "99bec644-6c03-44d6-80ca-53186090fcef"
      },
      "execution_count": 32,
      "outputs": [
        {
          "output_type": "execute_result",
          "data": {
            "text/plain": [
              "'9876543210'"
            ],
            "application/vnd.google.colaboratory.intrinsic+json": {
              "type": "string"
            }
          },
          "metadata": {},
          "execution_count": 32
        }
      ]
    },
    {
      "cell_type": "markdown",
      "source": [
        "lst=[\"Pune\",\"Mumbai\"]\n",
        "\n",
        "lst1=[\"x\",\"y\",\"z\"]\n",
        "\t\n",
        "How can we get output like\n",
        "\n",
        "['Pune', 'Mumbai', ['x', 'y', 'z']] "
      ],
      "metadata": {
        "id": "BjZkh5KCYOaX"
      }
    },
    {
      "cell_type": "code",
      "source": [
        "lst=[\"Pune\",\"Mumbai\"]\n",
        "lst1=[\"x\",\"y\",\"z\"]\n",
        "lst.append(lst1)\n",
        "lst\t"
      ],
      "metadata": {
        "id": "iUtVottDYOaY",
        "colab": {
          "base_uri": "https://localhost:8080/"
        },
        "outputId": "b16d8a92-8abb-4dce-adb1-80123a6c6f54"
      },
      "execution_count": 33,
      "outputs": [
        {
          "output_type": "execute_result",
          "data": {
            "text/plain": [
              "['Pune', 'Mumbai', ['x', 'y', 'z']]"
            ]
          },
          "metadata": {},
          "execution_count": 33
        }
      ]
    },
    {
      "cell_type": "markdown",
      "source": [
        "**Find Even and Odd numbers in the range(1-10)**"
      ],
      "metadata": {
        "id": "PqGa4gwkHWBk"
      }
    },
    {
      "cell_type": "code",
      "source": [
        "for i in range(1,10):\n",
        "  if(i%2==0):\n",
        "    print(\"Even number\",i)\n",
        "  else:\n",
        "    print(\"odd number\",i)  "
      ],
      "metadata": {
        "id": "oEie3gQbHj14",
        "colab": {
          "base_uri": "https://localhost:8080/"
        },
        "outputId": "fcdf0d9b-6460-4c8b-8bcd-b1956cdca090"
      },
      "execution_count": 34,
      "outputs": [
        {
          "output_type": "stream",
          "name": "stdout",
          "text": [
            "odd number 1\n",
            "Even number 2\n",
            "odd number 3\n",
            "Even number 4\n",
            "odd number 5\n",
            "Even number 6\n",
            "odd number 7\n",
            "Even number 8\n",
            "odd number 9\n"
          ]
        }
      ]
    },
    {
      "cell_type": "markdown",
      "source": [
        "str = \"Hello\"\n",
        "\n",
        "str[2:10:2] = ? "
      ],
      "metadata": {
        "id": "FfhqJUGqJRU_"
      }
    },
    {
      "cell_type": "code",
      "source": [
        "str = \"Hello\"\n",
        "str[2:10:2]"
      ],
      "metadata": {
        "id": "NgrQauKGJbDx",
        "colab": {
          "base_uri": "https://localhost:8080/",
          "height": 36
        },
        "outputId": "e31e4d02-05e3-4867-9681-8979bd9c51e4"
      },
      "execution_count": 35,
      "outputs": [
        {
          "output_type": "execute_result",
          "data": {
            "text/plain": [
              "'lo'"
            ],
            "application/vnd.google.colaboratory.intrinsic+json": {
              "type": "string"
            }
          },
          "metadata": {},
          "execution_count": 35
        }
      ]
    },
    {
      "cell_type": "markdown",
      "source": [
        "str = 'Hello'\n",
        "\n",
        "Reverse the string"
      ],
      "metadata": {
        "id": "ARxlRanCJrED"
      }
    },
    {
      "cell_type": "code",
      "source": [
        "str = 'Hello'\n",
        "str1=str[::-1]\n",
        "str1\n",
        "\t"
      ],
      "metadata": {
        "id": "TWayu5-NJxrY",
        "colab": {
          "base_uri": "https://localhost:8080/",
          "height": 36
        },
        "outputId": "3ee42731-8dee-4170-8243-d830030d6999"
      },
      "execution_count": 36,
      "outputs": [
        {
          "output_type": "execute_result",
          "data": {
            "text/plain": [
              "'olleH'"
            ],
            "application/vnd.google.colaboratory.intrinsic+json": {
              "type": "string"
            }
          },
          "metadata": {},
          "execution_count": 36
        }
      ]
    },
    {
      "cell_type": "markdown",
      "source": [
        "**Factorial**"
      ],
      "metadata": {
        "id": "p6Wxj67mXywf"
      }
    },
    {
      "cell_type": "code",
      "source": [
        "import math\n",
        "print(math.factorial(10))\n"
      ],
      "metadata": {
        "id": "G6u_CcXbbp4p",
        "colab": {
          "base_uri": "https://localhost:8080/"
        },
        "outputId": "7977b476-91af-411a-f384-8d00ab8a030c"
      },
      "execution_count": 37,
      "outputs": [
        {
          "output_type": "stream",
          "name": "stdout",
          "text": [
            "3628800\n"
          ]
        }
      ]
    },
    {
      "cell_type": "code",
      "source": [
        "print(math.factorial(3))"
      ],
      "metadata": {
        "id": "XzilvqvCZojZ",
        "colab": {
          "base_uri": "https://localhost:8080/"
        },
        "outputId": "ce5e4429-c661-43e1-bd52-cbb4443f27ec"
      },
      "execution_count": 38,
      "outputs": [
        {
          "output_type": "stream",
          "name": "stdout",
          "text": [
            "6\n"
          ]
        }
      ]
    },
    {
      "cell_type": "markdown",
      "source": [
        "**To get median using numpy**"
      ],
      "metadata": {
        "id": "s5R-E5EGX3ts"
      }
    },
    {
      "cell_type": "code",
      "source": [
        "import numpy as np\n",
        "l=[31,17,56,34,22,5,2,37,17]\n",
        "np.median(l)"
      ],
      "metadata": {
        "id": "eJGrHNb_dg24",
        "colab": {
          "base_uri": "https://localhost:8080/"
        },
        "outputId": "13a5558e-0628-4224-c724-7612810e48c1"
      },
      "execution_count": 39,
      "outputs": [
        {
          "output_type": "execute_result",
          "data": {
            "text/plain": [
              "22.0"
            ]
          },
          "metadata": {},
          "execution_count": 39
        }
      ]
    }
  ]
}